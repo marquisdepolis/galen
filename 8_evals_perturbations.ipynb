{
 "cells": [
  {
   "cell_type": "code",
   "execution_count": 3,
   "metadata": {},
   "outputs": [
    {
     "name": "stdout",
     "output_type": "stream",
     "text": [
      "Category: Market and Economic Factors, Perturbation: Competitive Reaction, Description: Considering the market entry of a new competitor\n"
     ]
    }
   ],
   "source": [
    "import json\n",
    "import random\n",
    "\n",
    "def load_perturbations(file_path):\n",
    "    with open(file_path, 'r') as file:\n",
    "        return json.load(file)\n",
    "\n",
    "def get_random_perturbation(perturbations):\n",
    "    category = random.choice(list(perturbations.keys()))\n",
    "    perturbation = random.choice(list(perturbations[category].items()))\n",
    "    return category, perturbation\n",
    "\n",
    "# Usage\n",
    "file_path = 'perturbations.json'\n",
    "perturbations = load_perturbations(file_path)\n",
    "random_category, random_perturbation = get_random_perturbation(perturbations)\n",
    "print(f\"Category: {random_category}, Perturbation: {random_perturbation[0]}, Description: {random_perturbation[1]}\")\n"
   ]
  }
 ],
 "metadata": {
  "kernelspec": {
   "display_name": "Python 3",
   "language": "python",
   "name": "python3"
  },
  "language_info": {
   "codemirror_mode": {
    "name": "ipython",
    "version": 3
   },
   "file_extension": ".py",
   "mimetype": "text/x-python",
   "name": "python",
   "nbconvert_exporter": "python",
   "pygments_lexer": "ipython3",
   "version": "3.11.6"
  }
 },
 "nbformat": 4,
 "nbformat_minor": 2
}
