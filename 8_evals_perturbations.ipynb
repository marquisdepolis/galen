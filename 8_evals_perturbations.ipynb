{
 "cells": [
  {
   "cell_type": "code",
   "execution_count": 1,
   "metadata": {},
   "outputs": [
    {
     "name": "stdout",
     "output_type": "stream",
     "text": [
      "Category: Regulatory and Compliance, Perturbation: Legal Shift, Description: Due to new legal precedents affecting our procedures\n"
     ]
    }
   ],
   "source": [
    "import json\n",
    "import random\n",
    "\n",
    "def load_file(file_path):\n",
    "    with open(file_path, 'r') as file:\n",
    "        return json.load(file)\n",
    "\n",
    "def get_random_perturbation(perturbations):\n",
    "    category = random.choice(list(perturbations.keys()))\n",
    "    perturbation = random.choice(list(perturbations[category].items()))\n",
    "    return category, perturbation\n",
    "\n",
    "# Usage\n",
    "file_path = 'perturbations.json'\n",
    "perturbations = load_file(file_path)\n",
    "random_category, random_perturbation = get_random_perturbation(perturbations)\n",
    "print(f\"Category: {random_category}, Perturbation: {random_perturbation[0]}, Description: {random_perturbation[1]}\")\n"
   ]
  },
  {
   "cell_type": "code",
   "execution_count": 5,
   "metadata": {},
   "outputs": [
    {
     "name": "stdout",
     "output_type": "stream",
     "text": [
      "No duplicates found.\n",
      "You are an exceptional computational biologist and genomics expert and know everything about drug discovery.. Please try your best to answer the following question. \"Which cell lines have high dependency for the target of interest for the gene POLR3E?\"\n",
      "You are an exceptional computational biologist and genomics expert and know everything about drug discovery.. Please try your best to answer the following question. \"Which indications are the dependent cell lines for the gene POLR3E enriched in? Are there lineages with high selectivity?\"\n",
      "You are an exceptional computational biologist and genomics expert and know everything about drug discovery.. Please try your best to answer the following question. \"Is there a concordance in the variant profile seen in cell lines with that of patients for the gene POLR3E?\"\n",
      "You are an exceptional computational biologist and genomics expert and know everything about drug discovery.. Please try your best to answer the following question. \"Describe associations between expression and variant profiles for the gene POLR3E.\"\n",
      "You are an exceptional computational biologist and genomics expert and know everything about drug discovery.. Please try your best to answer the following question. \"Have cell lines been used in other studies for the target of interest of the gene POLR3E? If experimental data is available on NCBI GEO, provide those links or analysis within the platform.\"\n",
      "You are an exceptional computational biologist and genomics expert and know everything about drug discovery.. Please try your best to answer the following question. \"For the gene POLR3E, identify indications with significant differential expression in cancer vs normal tissue. Is it overexpressed or underexpressed in tumor tissue?\"\n",
      "You are an exceptional computational biologist and genomics expert and know everything about drug discovery.. Please try your best to answer the following question. \"Describe the variant profile of tissues where there is significant differential expression for the gene POLR3E. Include details on copy number variations, mutations, etc.\"\n",
      "You are an exceptional computational biologist and genomics expert and know everything about drug discovery.. Please try your best to answer the following question. \"Are there specific regions of the protein of the gene POLR3E where mutations occur at a higher frequency?\"\n",
      "You are an exceptional computational biologist and genomics expert and know everything about drug discovery.. Please try your best to answer the following question. \"For the gene POLR3E, determine how many of the mutations are pathogenic.\"\n",
      "You are an exceptional computational biologist and genomics expert and know everything about drug discovery.. Please try your best to answer the following question. \"Are pathogenicity scores of mutations or copy number profiles associated with cancer progression and survival for the gene POLR3E?\"\n",
      "You are an exceptional computational biologist and genomics expert and know everything about drug discovery.. Please try your best to answer the following question. \"Identify any therapeutic areas or platforms in focus for the gene POLR3E.\"\n",
      "You are an exceptional computational biologist and genomics expert and know everything about drug discovery.. Please try your best to answer the following question. \"List molecules in clinical trials for the gene POLR3E, detailing the pharmaceutical companies involved and the latest status of these trials.\"\n",
      "You are an exceptional computational biologist and genomics expert and know everything about drug discovery.. Please try your best to answer the following question. \"Which indications have drugs already in the market for the gene POLR3E?\"\n",
      "You are an exceptional computational biologist and genomics expert and know everything about drug discovery.. Please try your best to answer the following question. \"Are there any first in class opportunities for the gene POLR3E?\"\n",
      "You are an exceptional computational biologist and genomics expert and know everything about drug discovery.. Please try your best to answer the following question. \"How do you determine which genes or proteins to target for a new therapeutic?\"\n",
      "You are an exceptional computational biologist and genomics expert and know everything about drug discovery.. Please try your best to answer the following question. \"What methods can be used to validate a potential biomarker for a specific disease?\"\n",
      "You are an exceptional computational biologist and genomics expert and know everything about drug discovery.. Please try your best to answer the following question. \"Explain how pathway analysis can be integrated into drug discovery.\"\n",
      "You are an exceptional computational biologist and genomics expert and know everything about drug discovery.. Please try your best to answer the following question. \"How does phenotypic screening complement genotypic screening in drug discovery?\"\n",
      "You are an exceptional computational biologist and genomics expert and know everything about drug discovery.. Please try your best to answer the following question. \"What are the main challenges in translating in vitro findings to in vivo models?\"\n",
      "You are an exceptional computational biologist and genomics expert and know everything about drug discovery.. Please try your best to answer the following question. \"Discuss how structural biology can aid in the design of a new drug.\"\n",
      "You are an exceptional computational biologist and genomics expert and know everything about drug discovery.. Please try your best to answer the following question. \"Provide a summary of the gene POLR3E, including its functions, mechanisms, and classifications.\"\n",
      "You are an exceptional computational biologist and genomics expert and know everything about drug discovery.. Please try your best to answer the following question. \"Summarize the direct or indirect role of the gene POLR3E in cancer, detailing its mechanisms and interactions with other genes.\"\n",
      "You are an exceptional computational biologist and genomics expert and know everything about drug discovery.. Please try your best to answer the following question. \"Determine if the gene POLR3E is an oncogene\"\n",
      "You are an exceptional computational biologist and genomics expert and know everything about drug discovery.. Please try your best to answer the following question. \"Identify the cancer indications or types that the gene POLR3E has been associated with.\"\n",
      "You are an exceptional computational biologist and genomics expert and know everything about drug discovery.. Please try your best to answer the following question. \"Provide relevant networks from any relevant database for the known mechanism and interactions of the gene POLR3E.\"\n",
      "You are an exceptional computational biologist and genomics expert and know everything about drug discovery.. Please try your best to answer the following question. \"List key publications related to the gene POLR3E, providing links where available.\"\n",
      "You are an exceptional computational biologist and genomics expert and know everything about drug discovery.. Please try your best to answer the following question. \"Give me a list of pseudokinase genes\"\n",
      "You are an exceptional computational biologist and genomics expert and know everything about drug discovery.. Please try your best to answer the following question. \"Propose a strategy to use CRISPR-Cas9 for editing a gene implicated in Alzheimer's disease\"\n",
      "You are an exceptional computational biologist and genomics expert and know everything about drug discovery.. Please try your best to answer the following question. \"Develop a series of siRNA sequences to target and knock down a specific oncogene\"\n",
      "You are an exceptional computational biologist and genomics expert and know everything about drug discovery.. Please try your best to answer the following question. \"Design a high-throughput screening (HTS) assay to identify small molecule inhibitors of a novel protein target believed to be involved in cancer cell proliferation\"\n",
      "You are an exceptional computational biologist and genomics expert and know everything about drug discovery.. Please try your best to answer the following question. \"Propose a strategy for developing an antibody-drug conjugate targeting a specific antigen overexpressed in a type of breast cancer\"\n",
      "You are an exceptional computational biologist and genomics expert and know everything about drug discovery.. Please try your best to answer the following question. \"Outline a pharmacokinetic study design for a new oral antidiabetic drug\"\n",
      "You are an exceptional computational biologist and genomics expert and know everything about drug discovery.. Please try your best to answer the following question. \"Describe the process of building a chemogenomics model to predict drug-target interactions.\"\n",
      "You are an exceptional computational biologist and genomics expert and know everything about drug discovery.. Please try your best to answer the following question. \"How can computational models predict off-target effects of potential drug candidates?\"\n",
      "You are an exceptional computational biologist and genomics expert and know everything about drug discovery.. Please try your best to answer the following question. \"What considerations are taken into account when selecting a delivery method for a new drug?\"\n",
      "You are an exceptional computational biologist and genomics expert and know everything about drug discovery.. Please try your best to answer the following question. \"Describe a strategy to screen for synergistic effects between drug candidates.\"\n",
      "You are an exceptional computational biologist and genomics expert and know everything about drug discovery.. Please try your best to answer the following question. \"Which mutations in PAS domain for the target protein exhibit high selectivity for the prostate cancer cell lines?\"\n",
      "You are an exceptional computational biologist and genomics expert and know everything about drug discovery.. Please try your best to answer the following question. \"Which BRCA gene structural variants in the ordered region affect its interaction with the paralogs?\"\n",
      "You are an exceptional computational biologist and genomics expert and know everything about drug discovery.. Please try your best to answer the following question. \"Which tissues in patients have gene set enrichment profile similar to experiment in NCBI GEO ID GSE249645?\"\n",
      "You are an exceptional computational biologist and genomics expert and know everything about drug discovery.. Please try your best to answer the following question. \"Which protein domains of the target are enriched for pathogenic mutations in the breast cancer patients?\"\n",
      "You are an exceptional computational biologist and genomics expert and know everything about drug discovery.. Please try your best to answer the following question. \"Which cell lines have high dependency for the target of interest for the gene POLR3E?\"\n",
      "You are an exceptional computational biologist and genomics expert and know everything about drug discovery.. Please try your best to answer the following question. \"Which indications are the dependent cell lines for the gene POLR3E enriched in? Are there lineages with high selectivity?\"\n",
      "You are an exceptional computational biologist and genomics expert and know everything about drug discovery.. Please try your best to answer the following question. \"Is there a concordance in the variant profile seen in cell lines with that of patients for the gene POLR3E?\"\n",
      "You are an exceptional computational biologist and genomics expert and know everything about drug discovery.. Please try your best to answer the following question. \"Describe associations between expression and variant profiles for the gene POLR3E.\"\n",
      "You are an exceptional computational biologist and genomics expert and know everything about drug discovery.. Please try your best to answer the following question. \"Have cell lines been used in other studies for the target of interest of the gene POLR3E? If experimental data is available on NCBI GEO, provide those links or analysis within the platform.\"\n",
      "You are an exceptional computational biologist and genomics expert and know everything about drug discovery.. Please try your best to answer the following question. \"For the gene POLR3E, identify indications with significant differential expression in cancer vs normal tissue. Is it overexpressed or underexpressed in tumor tissue?\"\n",
      "You are an exceptional computational biologist and genomics expert and know everything about drug discovery.. Please try your best to answer the following question. \"Describe the variant profile of tissues where there is significant differential expression for the gene POLR3E. Include details on copy number variations, mutations, etc.\"\n",
      "You are an exceptional computational biologist and genomics expert and know everything about drug discovery.. Please try your best to answer the following question. \"Are there specific regions of the protein of the gene POLR3E where mutations occur at a higher frequency?\"\n",
      "You are an exceptional computational biologist and genomics expert and know everything about drug discovery.. Please try your best to answer the following question. \"For the gene POLR3E, determine how many of the mutations are pathogenic.\"\n",
      "You are an exceptional computational biologist and genomics expert and know everything about drug discovery.. Please try your best to answer the following question. \"Are pathogenicity scores of mutations or copy number profiles associated with cancer progression and survival for the gene POLR3E?\"\n",
      "You are an exceptional computational biologist and genomics expert and know everything about drug discovery.. Please try your best to answer the following question. \"Identify any therapeutic areas or platforms in focus for the gene POLR3E.\"\n",
      "You are an exceptional computational biologist and genomics expert and know everything about drug discovery.. Please try your best to answer the following question. \"List molecules in clinical trials for the gene POLR3E, detailing the pharmaceutical companies involved and the latest status of these trials.\"\n",
      "You are an exceptional computational biologist and genomics expert and know everything about drug discovery.. Please try your best to answer the following question. \"Which indications have drugs already in the market for the gene POLR3E?\"\n",
      "You are an exceptional computational biologist and genomics expert and know everything about drug discovery.. Please try your best to answer the following question. \"Are there any first in class opportunities for the gene POLR3E?\"\n",
      "You are an exceptional computational biologist and genomics expert and know everything about drug discovery.. Please try your best to answer the following question. \"How do you determine which genes or proteins to target for a new therapeutic?\"\n",
      "You are an exceptional computational biologist and genomics expert and know everything about drug discovery.. Please try your best to answer the following question. \"What methods can be used to validate a potential biomarker for a specific disease?\"\n",
      "You are an exceptional computational biologist and genomics expert and know everything about drug discovery.. Please try your best to answer the following question. \"Explain how pathway analysis can be integrated into drug discovery.\"\n",
      "You are an exceptional computational biologist and genomics expert and know everything about drug discovery.. Please try your best to answer the following question. \"How does phenotypic screening complement genotypic screening in drug discovery?\"\n",
      "You are an exceptional computational biologist and genomics expert and know everything about drug discovery.. Please try your best to answer the following question. \"What are the main challenges in translating in vitro findings to in vivo models?\"\n",
      "You are an exceptional computational biologist and genomics expert and know everything about drug discovery.. Please try your best to answer the following question. \"Discuss how structural biology can aid in the design of a new drug.\"\n",
      "You are an exceptional computational biologist and genomics expert and know everything about drug discovery.. Please try your best to answer the following question. \"Provide a summary of the gene POLR3E, including its functions, mechanisms, and classifications.\"\n",
      "You are an exceptional computational biologist and genomics expert and know everything about drug discovery.. Please try your best to answer the following question. \"Summarize the direct or indirect role of the gene POLR3E in cancer, detailing its mechanisms and interactions with other genes.\"\n",
      "You are an exceptional computational biologist and genomics expert and know everything about drug discovery.. Please try your best to answer the following question. \"Determine if the gene POLR3E is an oncogene\"\n",
      "You are an exceptional computational biologist and genomics expert and know everything about drug discovery.. Please try your best to answer the following question. \"Identify the cancer indications or types that the gene POLR3E has been associated with.\"\n",
      "You are an exceptional computational biologist and genomics expert and know everything about drug discovery.. Please try your best to answer the following question. \"Provide relevant networks from any relevant database for the known mechanism and interactions of the gene POLR3E.\"\n",
      "You are an exceptional computational biologist and genomics expert and know everything about drug discovery.. Please try your best to answer the following question. \"List key publications related to the gene POLR3E, providing links where available.\"\n",
      "You are an exceptional computational biologist and genomics expert and know everything about drug discovery.. Please try your best to answer the following question. \"Give me a list of pseudokinase genes\"\n",
      "You are an exceptional computational biologist and genomics expert and know everything about drug discovery.. Please try your best to answer the following question. \"Propose a strategy to use CRISPR-Cas9 for editing a gene implicated in Alzheimer's disease\"\n",
      "You are an exceptional computational biologist and genomics expert and know everything about drug discovery.. Please try your best to answer the following question. \"Develop a series of siRNA sequences to target and knock down a specific oncogene\"\n",
      "You are an exceptional computational biologist and genomics expert and know everything about drug discovery.. Please try your best to answer the following question. \"Design a high-throughput screening (HTS) assay to identify small molecule inhibitors of a novel protein target believed to be involved in cancer cell proliferation\"\n",
      "You are an exceptional computational biologist and genomics expert and know everything about drug discovery.. Please try your best to answer the following question. \"Propose a strategy for developing an antibody-drug conjugate targeting a specific antigen overexpressed in a type of breast cancer\"\n",
      "You are an exceptional computational biologist and genomics expert and know everything about drug discovery.. Please try your best to answer the following question. \"Outline a pharmacokinetic study design for a new oral antidiabetic drug\"\n",
      "You are an exceptional computational biologist and genomics expert and know everything about drug discovery.. Please try your best to answer the following question. \"Describe the process of building a chemogenomics model to predict drug-target interactions.\"\n",
      "You are an exceptional computational biologist and genomics expert and know everything about drug discovery.. Please try your best to answer the following question. \"How can computational models predict off-target effects of potential drug candidates?\"\n",
      "You are an exceptional computational biologist and genomics expert and know everything about drug discovery.. Please try your best to answer the following question. \"What considerations are taken into account when selecting a delivery method for a new drug?\"\n",
      "You are an exceptional computational biologist and genomics expert and know everything about drug discovery.. Please try your best to answer the following question. \"Describe a strategy to screen for synergistic effects between drug candidates.\"\n",
      "You are an exceptional computational biologist and genomics expert and know everything about drug discovery.. Please try your best to answer the following question. \"Which mutations in PAS domain for the target protein exhibit high selectivity for the prostate cancer cell lines?\"\n",
      "You are an exceptional computational biologist and genomics expert and know everything about drug discovery.. Please try your best to answer the following question. \"Which BRCA gene structural variants in the ordered region affect its interaction with the paralogs?\"\n",
      "You are an exceptional computational biologist and genomics expert and know everything about drug discovery.. Please try your best to answer the following question. \"Which tissues in patients have gene set enrichment profile similar to experiment in NCBI GEO ID GSE249645?\"\n",
      "You are an exceptional computational biologist and genomics expert and know everything about drug discovery.. Please try your best to answer the following question. \"Which protein domains of the target are enriched for pathogenic mutations in the breast cancer patients?\"\n",
      "You are an exceptional computational biologist and genomics expert and know everything about drug discovery.. Please try your best to answer the following question. \"Which cell lines have high dependency for the target of interest for the gene POLR3E?\"\n",
      "You are an exceptional computational biologist and genomics expert and know everything about drug discovery.. Please try your best to answer the following question. \"Which indications are the dependent cell lines for the gene POLR3E enriched in? Are there lineages with high selectivity?\"\n",
      "You are an exceptional computational biologist and genomics expert and know everything about drug discovery.. Please try your best to answer the following question. \"Is there a concordance in the variant profile seen in cell lines with that of patients for the gene POLR3E?\"\n",
      "You are an exceptional computational biologist and genomics expert and know everything about drug discovery.. Please try your best to answer the following question. \"Describe associations between expression and variant profiles for the gene POLR3E.\"\n",
      "You are an exceptional computational biologist and genomics expert and know everything about drug discovery.. Please try your best to answer the following question. \"Have cell lines been used in other studies for the target of interest of the gene POLR3E? If experimental data is available on NCBI GEO, provide those links or analysis within the platform.\"\n",
      "You are an exceptional computational biologist and genomics expert and know everything about drug discovery.. Please try your best to answer the following question. \"For the gene POLR3E, identify indications with significant differential expression in cancer vs normal tissue. Is it overexpressed or underexpressed in tumor tissue?\"\n",
      "You are an exceptional computational biologist and genomics expert and know everything about drug discovery.. Please try your best to answer the following question. \"Describe the variant profile of tissues where there is significant differential expression for the gene POLR3E. Include details on copy number variations, mutations, etc.\"\n",
      "You are an exceptional computational biologist and genomics expert and know everything about drug discovery.. Please try your best to answer the following question. \"Are there specific regions of the protein of the gene POLR3E where mutations occur at a higher frequency?\"\n",
      "You are an exceptional computational biologist and genomics expert and know everything about drug discovery.. Please try your best to answer the following question. \"For the gene POLR3E, determine how many of the mutations are pathogenic.\"\n",
      "You are an exceptional computational biologist and genomics expert and know everything about drug discovery.. Please try your best to answer the following question. \"Are pathogenicity scores of mutations or copy number profiles associated with cancer progression and survival for the gene POLR3E?\"\n",
      "You are an exceptional computational biologist and genomics expert and know everything about drug discovery.. Please try your best to answer the following question. \"Identify any therapeutic areas or platforms in focus for the gene POLR3E.\"\n",
      "You are an exceptional computational biologist and genomics expert and know everything about drug discovery.. Please try your best to answer the following question. \"List molecules in clinical trials for the gene POLR3E, detailing the pharmaceutical companies involved and the latest status of these trials.\"\n",
      "You are an exceptional computational biologist and genomics expert and know everything about drug discovery.. Please try your best to answer the following question. \"Which indications have drugs already in the market for the gene POLR3E?\"\n",
      "You are an exceptional computational biologist and genomics expert and know everything about drug discovery.. Please try your best to answer the following question. \"Are there any first in class opportunities for the gene POLR3E?\"\n",
      "You are an exceptional computational biologist and genomics expert and know everything about drug discovery.. Please try your best to answer the following question. \"How do you determine which genes or proteins to target for a new therapeutic?\"\n",
      "You are an exceptional computational biologist and genomics expert and know everything about drug discovery.. Please try your best to answer the following question. \"What methods can be used to validate a potential biomarker for a specific disease?\"\n",
      "You are an exceptional computational biologist and genomics expert and know everything about drug discovery.. Please try your best to answer the following question. \"Explain how pathway analysis can be integrated into drug discovery.\"\n",
      "You are an exceptional computational biologist and genomics expert and know everything about drug discovery.. Please try your best to answer the following question. \"How does phenotypic screening complement genotypic screening in drug discovery?\"\n",
      "You are an exceptional computational biologist and genomics expert and know everything about drug discovery.. Please try your best to answer the following question. \"What are the main challenges in translating in vitro findings to in vivo models?\"\n",
      "You are an exceptional computational biologist and genomics expert and know everything about drug discovery.. Please try your best to answer the following question. \"Discuss how structural biology can aid in the design of a new drug.\"\n",
      "You are an exceptional computational biologist and genomics expert and know everything about drug discovery.. Please try your best to answer the following question. \"Provide a summary of the gene POLR3E, including its functions, mechanisms, and classifications.\"\n",
      "You are an exceptional computational biologist and genomics expert and know everything about drug discovery.. Please try your best to answer the following question. \"Summarize the direct or indirect role of the gene POLR3E in cancer, detailing its mechanisms and interactions with other genes.\"\n",
      "You are an exceptional computational biologist and genomics expert and know everything about drug discovery.. Please try your best to answer the following question. \"Determine if the gene POLR3E is an oncogene\"\n",
      "You are an exceptional computational biologist and genomics expert and know everything about drug discovery.. Please try your best to answer the following question. \"Identify the cancer indications or types that the gene POLR3E has been associated with.\"\n",
      "You are an exceptional computational biologist and genomics expert and know everything about drug discovery.. Please try your best to answer the following question. \"Provide relevant networks from any relevant database for the known mechanism and interactions of the gene POLR3E.\"\n",
      "You are an exceptional computational biologist and genomics expert and know everything about drug discovery.. Please try your best to answer the following question. \"List key publications related to the gene POLR3E, providing links where available.\"\n",
      "You are an exceptional computational biologist and genomics expert and know everything about drug discovery.. Please try your best to answer the following question. \"Give me a list of pseudokinase genes\"\n",
      "You are an exceptional computational biologist and genomics expert and know everything about drug discovery.. Please try your best to answer the following question. \"Propose a strategy to use CRISPR-Cas9 for editing a gene implicated in Alzheimer's disease\"\n",
      "You are an exceptional computational biologist and genomics expert and know everything about drug discovery.. Please try your best to answer the following question. \"Develop a series of siRNA sequences to target and knock down a specific oncogene\"\n",
      "You are an exceptional computational biologist and genomics expert and know everything about drug discovery.. Please try your best to answer the following question. \"Design a high-throughput screening (HTS) assay to identify small molecule inhibitors of a novel protein target believed to be involved in cancer cell proliferation\"\n",
      "You are an exceptional computational biologist and genomics expert and know everything about drug discovery.. Please try your best to answer the following question. \"Propose a strategy for developing an antibody-drug conjugate targeting a specific antigen overexpressed in a type of breast cancer\"\n",
      "You are an exceptional computational biologist and genomics expert and know everything about drug discovery.. Please try your best to answer the following question. \"Outline a pharmacokinetic study design for a new oral antidiabetic drug\"\n",
      "You are an exceptional computational biologist and genomics expert and know everything about drug discovery.. Please try your best to answer the following question. \"Describe the process of building a chemogenomics model to predict drug-target interactions.\"\n",
      "You are an exceptional computational biologist and genomics expert and know everything about drug discovery.. Please try your best to answer the following question. \"How can computational models predict off-target effects of potential drug candidates?\"\n",
      "You are an exceptional computational biologist and genomics expert and know everything about drug discovery.. Please try your best to answer the following question. \"What considerations are taken into account when selecting a delivery method for a new drug?\"\n",
      "You are an exceptional computational biologist and genomics expert and know everything about drug discovery.. Please try your best to answer the following question. \"Describe a strategy to screen for synergistic effects between drug candidates.\"\n",
      "You are an exceptional computational biologist and genomics expert and know everything about drug discovery.. Please try your best to answer the following question. \"Which mutations in PAS domain for the target protein exhibit high selectivity for the prostate cancer cell lines?\"\n",
      "You are an exceptional computational biologist and genomics expert and know everything about drug discovery.. Please try your best to answer the following question. \"Which BRCA gene structural variants in the ordered region affect its interaction with the paralogs?\"\n",
      "You are an exceptional computational biologist and genomics expert and know everything about drug discovery.. Please try your best to answer the following question. \"Which tissues in patients have gene set enrichment profile similar to experiment in NCBI GEO ID GSE249645?\"\n",
      "You are an exceptional computational biologist and genomics expert and know everything about drug discovery.. Please try your best to answer the following question. \"Which protein domains of the target are enriched for pathogenic mutations in the breast cancer patients?\"\n",
      "You are an exceptional computational biologist and genomics expert and know everything about drug discovery.. Please try your best to answer the following question. \"Which cell lines have high dependency for the target of interest for the gene POLR3E?\"\n",
      "You are an exceptional computational biologist and genomics expert and know everything about drug discovery.. Please try your best to answer the following question. \"Which indications are the dependent cell lines for the gene POLR3E enriched in? Are there lineages with high selectivity?\"\n",
      "You are an exceptional computational biologist and genomics expert and know everything about drug discovery.. Please try your best to answer the following question. \"Is there a concordance in the variant profile seen in cell lines with that of patients for the gene POLR3E?\"\n",
      "You are an exceptional computational biologist and genomics expert and know everything about drug discovery.. Please try your best to answer the following question. \"Describe associations between expression and variant profiles for the gene POLR3E.\"\n",
      "You are an exceptional computational biologist and genomics expert and know everything about drug discovery.. Please try your best to answer the following question. \"Have cell lines been used in other studies for the target of interest of the gene POLR3E? If experimental data is available on NCBI GEO, provide those links or analysis within the platform.\"\n",
      "You are an exceptional computational biologist and genomics expert and know everything about drug discovery.. Please try your best to answer the following question. \"For the gene POLR3E, identify indications with significant differential expression in cancer vs normal tissue. Is it overexpressed or underexpressed in tumor tissue?\"\n",
      "You are an exceptional computational biologist and genomics expert and know everything about drug discovery.. Please try your best to answer the following question. \"Describe the variant profile of tissues where there is significant differential expression for the gene POLR3E. Include details on copy number variations, mutations, etc.\"\n",
      "You are an exceptional computational biologist and genomics expert and know everything about drug discovery.. Please try your best to answer the following question. \"Are there specific regions of the protein of the gene POLR3E where mutations occur at a higher frequency?\"\n",
      "You are an exceptional computational biologist and genomics expert and know everything about drug discovery.. Please try your best to answer the following question. \"For the gene POLR3E, determine how many of the mutations are pathogenic.\"\n",
      "You are an exceptional computational biologist and genomics expert and know everything about drug discovery.. Please try your best to answer the following question. \"Are pathogenicity scores of mutations or copy number profiles associated with cancer progression and survival for the gene POLR3E?\"\n",
      "You are an exceptional computational biologist and genomics expert and know everything about drug discovery.. Please try your best to answer the following question. \"Identify any therapeutic areas or platforms in focus for the gene POLR3E.\"\n",
      "You are an exceptional computational biologist and genomics expert and know everything about drug discovery.. Please try your best to answer the following question. \"List molecules in clinical trials for the gene POLR3E, detailing the pharmaceutical companies involved and the latest status of these trials.\"\n",
      "You are an exceptional computational biologist and genomics expert and know everything about drug discovery.. Please try your best to answer the following question. \"Which indications have drugs already in the market for the gene POLR3E?\"\n",
      "You are an exceptional computational biologist and genomics expert and know everything about drug discovery.. Please try your best to answer the following question. \"Are there any first in class opportunities for the gene POLR3E?\"\n",
      "You are an exceptional computational biologist and genomics expert and know everything about drug discovery.. Please try your best to answer the following question. \"How do you determine which genes or proteins to target for a new therapeutic?\"\n",
      "You are an exceptional computational biologist and genomics expert and know everything about drug discovery.. Please try your best to answer the following question. \"What methods can be used to validate a potential biomarker for a specific disease?\"\n",
      "You are an exceptional computational biologist and genomics expert and know everything about drug discovery.. Please try your best to answer the following question. \"Explain how pathway analysis can be integrated into drug discovery.\"\n",
      "You are an exceptional computational biologist and genomics expert and know everything about drug discovery.. Please try your best to answer the following question. \"How does phenotypic screening complement genotypic screening in drug discovery?\"\n",
      "You are an exceptional computational biologist and genomics expert and know everything about drug discovery.. Please try your best to answer the following question. \"What are the main challenges in translating in vitro findings to in vivo models?\"\n",
      "You are an exceptional computational biologist and genomics expert and know everything about drug discovery.. Please try your best to answer the following question. \"Discuss how structural biology can aid in the design of a new drug.\"\n",
      "You are an exceptional computational biologist and genomics expert and know everything about drug discovery.. Please try your best to answer the following question. \"Provide a summary of the gene POLR3E, including its functions, mechanisms, and classifications.\"\n",
      "You are an exceptional computational biologist and genomics expert and know everything about drug discovery.. Please try your best to answer the following question. \"Summarize the direct or indirect role of the gene POLR3E in cancer, detailing its mechanisms and interactions with other genes.\"\n",
      "You are an exceptional computational biologist and genomics expert and know everything about drug discovery.. Please try your best to answer the following question. \"Determine if the gene POLR3E is an oncogene\"\n",
      "You are an exceptional computational biologist and genomics expert and know everything about drug discovery.. Please try your best to answer the following question. \"Identify the cancer indications or types that the gene POLR3E has been associated with.\"\n",
      "You are an exceptional computational biologist and genomics expert and know everything about drug discovery.. Please try your best to answer the following question. \"Provide relevant networks from any relevant database for the known mechanism and interactions of the gene POLR3E.\"\n",
      "You are an exceptional computational biologist and genomics expert and know everything about drug discovery.. Please try your best to answer the following question. \"List key publications related to the gene POLR3E, providing links where available.\"\n",
      "You are an exceptional computational biologist and genomics expert and know everything about drug discovery.. Please try your best to answer the following question. \"Give me a list of pseudokinase genes\"\n",
      "You are an exceptional computational biologist and genomics expert and know everything about drug discovery.. Please try your best to answer the following question. \"Propose a strategy to use CRISPR-Cas9 for editing a gene implicated in Alzheimer's disease\"\n",
      "You are an exceptional computational biologist and genomics expert and know everything about drug discovery.. Please try your best to answer the following question. \"Develop a series of siRNA sequences to target and knock down a specific oncogene\"\n",
      "You are an exceptional computational biologist and genomics expert and know everything about drug discovery.. Please try your best to answer the following question. \"Design a high-throughput screening (HTS) assay to identify small molecule inhibitors of a novel protein target believed to be involved in cancer cell proliferation\"\n",
      "You are an exceptional computational biologist and genomics expert and know everything about drug discovery.. Please try your best to answer the following question. \"Propose a strategy for developing an antibody-drug conjugate targeting a specific antigen overexpressed in a type of breast cancer\"\n",
      "You are an exceptional computational biologist and genomics expert and know everything about drug discovery.. Please try your best to answer the following question. \"Outline a pharmacokinetic study design for a new oral antidiabetic drug\"\n",
      "You are an exceptional computational biologist and genomics expert and know everything about drug discovery.. Please try your best to answer the following question. \"Describe the process of building a chemogenomics model to predict drug-target interactions.\"\n",
      "You are an exceptional computational biologist and genomics expert and know everything about drug discovery.. Please try your best to answer the following question. \"How can computational models predict off-target effects of potential drug candidates?\"\n",
      "You are an exceptional computational biologist and genomics expert and know everything about drug discovery.. Please try your best to answer the following question. \"What considerations are taken into account when selecting a delivery method for a new drug?\"\n",
      "You are an exceptional computational biologist and genomics expert and know everything about drug discovery.. Please try your best to answer the following question. \"Describe a strategy to screen for synergistic effects between drug candidates.\"\n",
      "You are an exceptional computational biologist and genomics expert and know everything about drug discovery.. Please try your best to answer the following question. \"Which mutations in PAS domain for the target protein exhibit high selectivity for the prostate cancer cell lines?\"\n",
      "You are an exceptional computational biologist and genomics expert and know everything about drug discovery.. Please try your best to answer the following question. \"Which BRCA gene structural variants in the ordered region affect its interaction with the paralogs?\"\n",
      "You are an exceptional computational biologist and genomics expert and know everything about drug discovery.. Please try your best to answer the following question. \"Which tissues in patients have gene set enrichment profile similar to experiment in NCBI GEO ID GSE249645?\"\n",
      "You are an exceptional computational biologist and genomics expert and know everything about drug discovery.. Please try your best to answer the following question. \"Which protein domains of the target are enriched for pathogenic mutations in the breast cancer patients?\"\n"
     ]
    }
   ],
   "source": [
    "# LLM dynamic evaluation\n",
    "\n",
    "import replicate\n",
    "import pandas as pd\n",
    "import json\n",
    "import os\n",
    "from dotenv import load_dotenv\n",
    "load_dotenv()\n",
    "folder_path = 'files'\n",
    "if not os.path.exists(folder_path):\n",
    "    os.makedirs(folder_path)\n",
    "\n",
    "with open('config.json', 'r') as config_file:\n",
    "    config = json.load(config_file)\n",
    "\n",
    "INSTRUCTION = config['instructions']\n",
    "F_NAME = config[\"name\"]\n",
    "\n",
    "# # Load the file\n",
    "df = pd.read_excel('files/questions_dynamic.xlsx')\n",
    "# Save the original DataFrame\n",
    "df.to_excel('files/questions_original_dynamic.xlsx', index=False)\n",
    "\n",
    "# Trim whitespace and newline characters\n",
    "df['Question'] = df['Question'].str.strip()  # Removes leading/trailing whitespace\n",
    "\n",
    "# Check for duplicate questions\n",
    "duplicates = df.duplicated(subset=['Question'], keep=False)\n",
    "if duplicates.any():\n",
    "    print(\"Duplicates found. Removing duplicates.\")\n",
    "\n",
    "    # Remove duplicates, keeping the first occurrence\n",
    "    df = df.drop_duplicates(subset=['Question'], keep='first')\n",
    "\n",
    "    # Save the modified DataFrame, overwriting the original 'questions.xlsx'\n",
    "    df.to_excel('files/questions_dynamic.xlsx', index=False)\n",
    "else:\n",
    "    print(\"No duplicates found.\")\n",
    "\n",
    "perturbations = load_file('perturbations.json')\n",
    "knowledgebase = load_file('knowledgebase.json')\n",
    "\n",
    "# Modify DataFrame to include new columns\n",
    "results_df = pd.DataFrame(columns=['Model', 'Question', 'Response', 'Perturbed Question', 'Perturbed Response', 'Final Analysis Question', 'Final Analysis Response'])\n",
    "\n",
    "models = {\n",
    "    # \"qwen-14b\": \"nomagick/qwen-14b-chat:f9e1ed25e2073f72ff9a3f46545d909b1078e674da543e791dec79218072ae70\",\n",
    "    \"falcon-40b\": \"joehoover/falcon-40b-instruct:7d58d6bddc53c23fa451c403b2b5373b1e0fa094e4e0d1b98c3d02931aa07173\",\n",
    "    # \"yi-34b\": \"01-ai/yi-34b-chat:914692bbe8a8e2b91a4e44203e70d170c9c5ccc1359b283c84b0ec8d47819a46\",\n",
    "    \"mistral-7b\": \"mistralai/mistral-7b-instruct-v0.2:f5701ad84de5715051cb99d550539719f8a7fbcf65e0e62a3d1eb3f94720764e\",\n",
    "    \"llama2-70b\": \"meta/llama-2-70b-chat\",\n",
    "    # \"openhermes2\": \"antoinelyset/openhermes-2.5-mistral-7b:d7ccd25700fb11c1787c25b580ac8d715d2b677202fe54b77f9b4a1eb7d73e2b\",\n",
    "    \"mixtral-instruct\": \"mistralai/mixtral-8x7b-instruct-v0.1:2b56576fcfbe32fa0526897d8385dd3fb3d36ba6fd0dbe033c72886b81ade93e\",\n",
    "    # \"deepseek_33bq\": \"kcaverly/deepseek-coder-33b-instruct-gguf:ea964345066a8868e43aca432f314822660b72e29cab6b4b904b779014fe58fd\",\n",
    "    }\n",
    "\n",
    "def generate_prompt(model_key, instruction, question):\n",
    "    prompt_for_qwen = \"system\\n {instruction}. Please try your best to answer the following question. \\nuser\\n{question}\\nassistant\\n\"\n",
    "    prompt_for_hermes = \"\"\"[\n",
    "    {{\n",
    "      \"role\": \"system\",\n",
    "      \"content\": \"{instruction}. Please try your best to answer the following question.\" \n",
    "    }},\n",
    "    {{\n",
    "      \"role\": \"user\",\n",
    "      \"content\": {question}\n",
    "    }}\n",
    "    ]\"\"\"\n",
    "\n",
    "    if model_key in [\"yi-34b\", \"qwen-14b\"]:\n",
    "        return prompt_for_qwen.format(instruction=instruction, question=question)\n",
    "    elif model_key == \"openhermes2\":\n",
    "        return prompt_for_hermes.format(instruction=instruction, question=question)\n",
    "    else:\n",
    "        # plain_text_question = json.loads(question)\n",
    "        return f\"{instruction}. Please try your best to answer the following question. {question}\"\n",
    "\n",
    "prompt_for_qwen=\"\"\"<|im_start|>system\\n {INSTRUCTION}. Please try your best to answer the following question. <|im_end|>\\n<|im_start|>user\\n{question}<|im_end|>\\n<|im_start|>assistant\\n\"\"\"\n",
    "prompt_for_hermes = \"\"\"[\n",
    "{{\n",
    "  \"role\": \"system\",\n",
    "  \"content\": \"{INSTRUCTION}. Please try your best to answer the following question.\" \n",
    "}},\n",
    "{{\n",
    "  \"role\": \"user\",\n",
    "  \"content\": {question}\n",
    "}}\n",
    "]\"\"\"\n",
    "\n",
    "def ask_llm(model_value, prompt):   \n",
    "    output = replicate.run(\n",
    "        model_value,\n",
    "        input={\n",
    "            \"debug\": False,\n",
    "        #   \"top_k\": 50,\n",
    "            \"top_p\": 0.9,\n",
    "            \"prompt\": prompt,\n",
    "            \"temperature\": 0.7,\n",
    "            \"max_new_tokens\": 500,\n",
    "            \"min_new_tokens\": -1\n",
    "        }\n",
    "    )\n",
    "    response = \"\"\n",
    "    for item in output:\n",
    "        item_str = str(item)  # Convert item to string\n",
    "        response += item_str if len(item_str) == 1 else f\" {item_str}\"\n",
    "    response = response.strip()\n",
    "    return response\n",
    "\n",
    "# Iterate through each model\n",
    "for model_key, model_value in models.items():\n",
    "    responses = []\n",
    "\n",
    "    for index, row in df.iterrows():\n",
    "        qn = row['Question']\n",
    "        question = json.dumps(qn)\n",
    "        prompt = generate_prompt(model_key, INSTRUCTION, question)\n",
    "        try:\n",
    "            print(f\"{model_key}: {prompt}\")\n",
    "            response = ask_llm(model_value, prompt)\n",
    "            \n",
    "        except Exception as e:\n",
    "            response = f\"Error: {e}\"\n",
    "\n",
    "        # Perturb the question and get the response\n",
    "        category, (perturbation, description) = get_random_perturbation(perturbations)\n",
    "        perturbed_qn = f\"{qn}\\nResponse: {response}\\nChange in circumstances: {perturbation} - {description}\\n What should change in the response?\"\n",
    "        prompt = generate_prompt(model_key, INSTRUCTION, perturbed_qn)\n",
    "        perturbed_response = ask_llm(model_value, perturbed_qn)\n",
    "\n",
    "        # Evaluate sufficiency or suggest alternate course\n",
    "        final_analysis_qn = f\"Original Question: {question}\\nOriginal Response: {response} \\nPerturbation ({category}): {perturbation} - {description}\\n {perturbed_response}\\nKnowledgebase: {knowledgebase}\\nNow consider the knowlegebase, what else ought we to do?\"\n",
    "        prompt = generate_prompt(model_key, INSTRUCTION, final_analysis_qn)\n",
    "        final_analysis_response = ask_llm(model_value, final_analysis_qn)\n",
    "\n",
    "        # Record each stage\n",
    "        new_row = {\n",
    "            'Model': model_key, \n",
    "            'Question': qn, \n",
    "            'Response': response, \n",
    "            'Perturbed Question': perturbed_qn, \n",
    "            'Perturbed Response': perturbed_response, \n",
    "            'Final Analysis Question': final_analysis_qn, \n",
    "            'Final Analysis Response': final_analysis_response\n",
    "        }\n",
    "        results_df = pd.concat([results_df, pd.DataFrame([new_row])], ignore_index=True)\n",
    "\n",
    "        if index % 10 == 0:\n",
    "            results_df.to_excel(f'files/{F_NAME}_results_grouped_by_model_dynamic.xlsx', index=False, sheet_name='Sheet1')\n",
    "            \n",
    "results_df.to_excel(f'files/{F_NAME}_results_grouped_by_model_dynamic.xlsx', index=False, sheet_name='Sheet1')"
   ]
  },
  {
   "cell_type": "code",
   "execution_count": 6,
   "metadata": {},
   "outputs": [
    {
     "name": "stdout",
     "output_type": "stream",
     "text": [
      "{'id': 'asst_ggoUCxpIYUuTMyiQN9sb8AKU', 'created_at': 1706166460, 'description': None, 'file_ids': [], 'instructions': 'You are an exceptional computational biologist and genomics expert and know everything about drug discovery.', 'metadata': {}, 'model': 'gpt-3.5-turbo-1106', 'name': 'galen AI Dynamic Evaluator', 'object': 'assistant', 'tools': []}\n",
      "As an exceptional computational biologist and genomics expert with a deep understanding of drug discovery, I can tell you that the dependency of a specific gene target such as POLR3E can vary across different cell lines. To identify cell lines with a high dependency on a particular gene, researchers typically use CRISPR screens or RNA interference (RNAi) technology to systematically knock down the expression of the gene and then assess the impact on cell viability or growth.\n",
      "\n",
      "Several databases and tools, such as the Cancer Dependency Map (DepMap) project, provide comprehensive datasets on gene dependencies across a wide range of cancer cell lines, which can be valuable resources for identifying cell lines with high dependency on a specific gene like POLR3E.\n",
      "\n",
      "By analyzing these datasets and conducting functional genomic experiments, researchers can gain insights into the cell lines where POLR3E may exhibit high dependency, which is crucial for understanding the potential therapeutic implications of targeting this gene in cancer treatment and drug discovery efforts.\n"
     ]
    },
    {
     "name": "stderr",
     "output_type": "stream",
     "text": [
      "/var/folders/bl/nkj7dq8s6m16hf4zmr47vkfr0000gn/T/ipykernel_71372/955612396.py:110: FutureWarning: The frame.append method is deprecated and will be removed from pandas in a future version. Use pandas.concat instead.\n",
      "  results_df = results_df.append(processed_info, ignore_index=True)\n"
     ]
    },
    {
     "name": "stdout",
     "output_type": "stream",
     "text": [
      "The gene POLR3E encodes a subunit of RNA polymerase III, which is responsible for transcribing small noncoding RNAs. In terms of its association with specific cell lineages and indications, the enrichment of POLR3E in certain cell lines can provide insights into its potential role in specific biological processes or diseases. However, as of my last knowledge update, I don't have specific information on POLR3E enrichment in particular cell lineages or indications.\n",
      "\n",
      "To assess whether POLR3E is enriched in specific cell lineages or disease indications, a comprehensive analysis of gene expression data across a wide range of cell types and disease contexts may be necessary. This analysis could involve examining publicly available gene expression databases, such as the Cancer Cell Line Encyclopedia (CCLE) or the Gene Expression Omnibus (GEO), to identify the cell lines and indications in which POLR3E shows enrichment.\n",
      "\n",
      "If you have access to relevant gene expression data and analysis tools, you may consider conducting a differential expression analysis to identify cell lineages or disease indications in which POLR3E expression is significantly enriched. This could involve comparing POLR3E expression levels across different cell types or disease samples to identify any patterns of enrichment.\n",
      "\n",
      "In addition, if you have specific cell lineages or disease indications in mind, you may also want to explore literature and research articles for any published studies that have investigated the association of POLR3E with particular cell types or diseases.\n",
      "\n",
      "Overall, a systematic analysis of gene expression data and literature review would be essential to determine the cell lineages and disease indications in which POLR3E is enriched, and whether there are any lineages with high selectivity.\n"
     ]
    },
    {
     "name": "stderr",
     "output_type": "stream",
     "text": [
      "/var/folders/bl/nkj7dq8s6m16hf4zmr47vkfr0000gn/T/ipykernel_71372/955612396.py:110: FutureWarning: The frame.append method is deprecated and will be removed from pandas in a future version. Use pandas.concat instead.\n",
      "  results_df = results_df.append(processed_info, ignore_index=True)\n"
     ]
    },
    {
     "name": "stdout",
     "output_type": "stream",
     "text": [
      "The concordance in the variant profile between cell lines and patient samples for a particular gene such as POLR3E can vary depending on the specific variants and the context in which they are being studied. Several factors can influence the concordance, including the genetic background of the cell lines, the specific patient population being studied, and the methods used for variant detection and analysis.\n",
      "\n",
      "In general, it is important to carefully consider the specific variants and their potential impact on the function of the POLR3E gene. Variants that are known to be pathogenic or associated with specific disease phenotypes in patients should be evaluated for concordance in cell line models. Additionally, understanding the functional consequences of the variants, such as their effect on gene expression, protein function, or cellular pathways, can provide further insights into the relevance of the concordance between cell lines and patients.\n",
      "\n",
      "If you have specific variant data for POLR3E in cell lines and patients that you would like to discuss further, or if you need assistance in interpreting the variant profiles, feel free to provide more details and I can help you analyze the concordance between the two.\n"
     ]
    },
    {
     "name": "stderr",
     "output_type": "stream",
     "text": [
      "/var/folders/bl/nkj7dq8s6m16hf4zmr47vkfr0000gn/T/ipykernel_71372/955612396.py:110: FutureWarning: The frame.append method is deprecated and will be removed from pandas in a future version. Use pandas.concat instead.\n",
      "  results_df = results_df.append(processed_info, ignore_index=True)\n"
     ]
    },
    {
     "name": "stdout",
     "output_type": "stream",
     "text": [
      "Associating expression and variant profiles for the gene POLR3E involves analyzing data to understand how genetic variants may impact gene expression levels. To do this, you can utilize various approaches such as expression quantitative trait loci (eQTL) analysis, which identifies genetic variants that are associated with gene expression levels.\n",
      "\n",
      "In the case of POLR3E, you would first gather expression data (e.g., RNA-seq data) and variant data (e.g., whole-genome sequencing data) from relevant biological samples. Then, you can perform eQTL analysis to identify genetic variants that may influence the expression of POLR3E. This analysis can provide insights into how specific genetic variants may contribute to variations in POLR3E expression across different individuals.\n",
      "\n",
      "Additionally, you can also explore the impact of genetic variants on the protein sequence of POLR3E, potentially leading to changes in protein function. This can be achieved through in silico prediction tools and functional annotation of the variants to understand their potential effects on POLR3E function.\n",
      "\n",
      "Overall, by integrating expression and variant profiles for the gene POLR3E, you can gain a deeper understanding of how genetic variation may influence its expression and function, providing valuable insights for drug discovery and personalized medicine.\n"
     ]
    },
    {
     "name": "stderr",
     "output_type": "stream",
     "text": [
      "/var/folders/bl/nkj7dq8s6m16hf4zmr47vkfr0000gn/T/ipykernel_71372/955612396.py:110: FutureWarning: The frame.append method is deprecated and will be removed from pandas in a future version. Use pandas.concat instead.\n",
      "  results_df = results_df.append(processed_info, ignore_index=True)\n"
     ]
    },
    {
     "name": "stdout",
     "output_type": "stream",
     "text": [
      "I don't have direct access to specific databases or proprietary platforms, but I can guide you on how to find the information you need.\n",
      "\n",
      "The gene POLR3E encodes a subunit of RNA polymerase III, which is involved in the transcription of various small non-coding RNAs. To find studies related to POLR3E using cell lines, you can start by searching in public databases such as NCBI Gene, PubMed, or NCBI GEO.\n",
      "\n",
      "1. NCBI Gene: Visit the website and search for POLR3E. Under the \"External Links\" section, you can find related data in GEO or other databases.\n",
      "\n",
      "2. PubMed: Search for \"POLR3E cell line\" in the PubMed database. This might give you access to relevant studies that have used cell lines in the context of POLR3E.\n",
      "\n",
      "3. NCBI GEO: You can directly search for POLR3E in NCBI GEO to find relevant experimental data related to cell lines and POLR3E. The dataset links or analysis can be found within the platform.\n",
      "\n",
      "If you need further assistance, feel free to ask for more specific guidance.\n"
     ]
    },
    {
     "name": "stderr",
     "output_type": "stream",
     "text": [
      "/var/folders/bl/nkj7dq8s6m16hf4zmr47vkfr0000gn/T/ipykernel_71372/955612396.py:110: FutureWarning: The frame.append method is deprecated and will be removed from pandas in a future version. Use pandas.concat instead.\n",
      "  results_df = results_df.append(processed_info, ignore_index=True)\n"
     ]
    },
    {
     "name": "stdout",
     "output_type": "stream",
     "text": [
      "The gene POLR3E encodes for the third largest subunit of RNA polymerase III, which is an essential enzyme involved in the transcription of various small, non-coding RNA molecules. To determine the differential expression of POLR3E in cancer vs normal tissue, one can analyze data from high-throughput gene expression studies such as those available in public databases like The Cancer Genome Atlas (TCGA) or Gene Expression Omnibus (GEO).\n",
      "\n",
      "Upon analysis of existing literature and datasets, it has been demonstrated that POLR3E is overexpressed in various types of cancer, including breast cancer, lung adenocarcinoma, and colorectal adenocarcinoma, compared to normal tissue. This overexpression has been associated with tumor growth, metastasis, and poor prognosis in certain cancers.\n",
      "\n",
      "These findings suggest that POLR3E may serve as a potential biomarker for these cancer types and could be further investigated as a therapeutic target for the development of cancer treatments.\n"
     ]
    },
    {
     "name": "stderr",
     "output_type": "stream",
     "text": [
      "/var/folders/bl/nkj7dq8s6m16hf4zmr47vkfr0000gn/T/ipykernel_71372/955612396.py:110: FutureWarning: The frame.append method is deprecated and will be removed from pandas in a future version. Use pandas.concat instead.\n",
      "  results_df = results_df.append(processed_info, ignore_index=True)\n"
     ]
    },
    {
     "name": "stdout",
     "output_type": "stream",
     "text": [
      "The variant profile of tissues with significant differential expression for the gene POLR3E can be complex and multi-faceted. To start, we should consider both germline and somatic variations in these tissues.\n",
      "\n",
      "1. Germline Variations:\n",
      "   - Single Nucleotide Polymorphisms (SNPs): Common variations in the DNA sequence of the POLR3E gene can lead to different expression levels across tissues. By associating differential expression with specific SNPs in the gene's regulatory regions, we can better understand the genetic basis for this differential expression.\n",
      "\n",
      "   - Copy Number Variations (CNVs): Amplifications or deletions in the number of copies of the POLR3E gene may lead to altered expression levels. This can be identified through techniques such as array comparative genomic hybridization (aCGH) and next-generation sequencing (NGS).\n",
      "\n",
      "2. Somatic Variations:\n",
      "   - Somatic Mutations: Acquired mutations in the POLR3E gene within specific tissues can influence gene expression. These mutations may include single nucleotide substitutions, insertions, deletions, or structural variations. Next-generation sequencing, particularly whole-exome sequencing and whole-genome sequencing, can help identify these somatic variations.\n",
      "\n",
      "   - Epigenetic Modifications: Differential DNA methylation patterns and histone modifications in the regulatory regions of the POLR3E gene can also contribute to its varied expression across tissues. Epigenetic profiling techniques such as bisulfite sequencing and chromatin immunoprecipitation sequencing (ChIP-seq) can reveal these differences.\n",
      "\n",
      "3. Functional Impact:\n",
      "   - It's critical to assess the functional impact of these variations on the expression and activity of POLR3E. Computational tools and functional assays can help predict and validate the effects of these variants on gene expression and function.\n",
      "\n",
      "By integrating data from genomic, transcriptomic, and epigenomic analyses, as well as functional studies, we can gain a comprehensive understanding of the variant profile contributing to the differential expression of the POLR3E gene across tissues.\n"
     ]
    },
    {
     "name": "stderr",
     "output_type": "stream",
     "text": [
      "/var/folders/bl/nkj7dq8s6m16hf4zmr47vkfr0000gn/T/ipykernel_71372/955612396.py:110: FutureWarning: The frame.append method is deprecated and will be removed from pandas in a future version. Use pandas.concat instead.\n",
      "  results_df = results_df.append(processed_info, ignore_index=True)\n"
     ]
    },
    {
     "name": "stdout",
     "output_type": "stream",
     "text": [
      "Yes, mutations in the gene POLR3E can occur at specific regions of the protein. POLR3E encodes one of the subunits of RNA polymerase III, which is involved in the synthesis of small RNAs. Mutations in POLR3E have been associated with a spectrum of neurogenetic disorders. \n",
      "\n",
      "Studies have reported mutations in various regions of the POLR3E gene, including the catalytic core, the N-terminal, and the C-terminal domains. These mutations can affect the function of the RNA polymerase III complex, leading to impaired RNA synthesis and subsequent disease phenotypes.\n",
      "\n",
      "Understanding the specific regions where mutations commonly occur can provide valuable insights into the molecular mechanisms underlying the disease and may offer potential targets for drug discovery and therapeutic interventions.\n"
     ]
    },
    {
     "name": "stderr",
     "output_type": "stream",
     "text": [
      "/var/folders/bl/nkj7dq8s6m16hf4zmr47vkfr0000gn/T/ipykernel_71372/955612396.py:110: FutureWarning: The frame.append method is deprecated and will be removed from pandas in a future version. Use pandas.concat instead.\n",
      "  results_df = results_df.append(processed_info, ignore_index=True)\n"
     ]
    },
    {
     "name": "stdout",
     "output_type": "stream",
     "text": [
      "I'm sorry, but I cannot access specific databases or provide real-time information on the pathogenicity of mutations in the POLR3E gene. However, there are publicly available databases and bioinformatics tools that can provide information on the pathogenicity of specific mutations in genes. I recommend consulting resources like ClinVar, dbSNP, or Ensembl to gather this kind of information. If you have specific mutation data, you can also use bioinformatics tools such as SIFT, PolyPhen, or MutationTaster to predict the potential impact of mutations on protein function.\n"
     ]
    },
    {
     "name": "stderr",
     "output_type": "stream",
     "text": [
      "/var/folders/bl/nkj7dq8s6m16hf4zmr47vkfr0000gn/T/ipykernel_71372/955612396.py:110: FutureWarning: The frame.append method is deprecated and will be removed from pandas in a future version. Use pandas.concat instead.\n",
      "  results_df = results_df.append(processed_info, ignore_index=True)\n"
     ]
    },
    {
     "name": "stdout",
     "output_type": "stream",
     "text": [
      "As an expert in computational biology and genomics, I can tell you that POLR3E is a gene that encodes for a subunit of RNA polymerase III, which is responsible for transcribing small non-coding RNAs. Mutations in POLR3E have been associated with a rare autosomal recessive disorder called hypomyelinating leukodystrophy. However, the relationship between POLR3E mutations or copy number alterations and cancer progression or survival is not well-documented in the current literature.\n",
      "\n",
      "To investigate the pathogenicity scores of mutations or copy number profiles associated with cancer progression and survival for the gene POLR3E, one could perform a comprehensive literature review, analyze large cancer genomics databases such as TCGA (The Cancer Genome Atlas) or cBioPortal, and potentially conduct computational analyses to assess the impact of POLR3E mutations or copy number alterations on cancer phenotypes. If such data is not readily available, it may be necessary to collaborate with other researchers in the field to generate new experimental or clinical data to address this question.\n"
     ]
    },
    {
     "name": "stderr",
     "output_type": "stream",
     "text": [
      "/var/folders/bl/nkj7dq8s6m16hf4zmr47vkfr0000gn/T/ipykernel_71372/955612396.py:110: FutureWarning: The frame.append method is deprecated and will be removed from pandas in a future version. Use pandas.concat instead.\n",
      "  results_df = results_df.append(processed_info, ignore_index=True)\n"
     ]
    },
    {
     "name": "stdout",
     "output_type": "stream",
     "text": [
      "The gene POLR3E encodes a subunit of RNA polymerase III, which is responsible for transcribing small, non-coding RNAs essential for various cellular functions. Mutations in POLR3E have been associated with some neurological and developmental disorders, including hypomyelinating leukodystrophy and 4H leukodystrophy. Therefore, therapeutic areas in focus for POLR3E may include neurological and developmental disorders, particularly those involving myelination and white matter abnormalities. Additionally, targeting the transcriptional machinery involving POLR3E may be a potential avenue for drug discovery in these conditions.\n"
     ]
    },
    {
     "name": "stderr",
     "output_type": "stream",
     "text": [
      "/var/folders/bl/nkj7dq8s6m16hf4zmr47vkfr0000gn/T/ipykernel_71372/955612396.py:110: FutureWarning: The frame.append method is deprecated and will be removed from pandas in a future version. Use pandas.concat instead.\n",
      "  results_df = results_df.append(processed_info, ignore_index=True)\n"
     ]
    },
    {
     "name": "stdout",
     "output_type": "stream",
     "text": [
      "I'm sorry, I don't have the specific information about clinical trials for the gene POLR3E at the moment. However, clinical trial information can change frequently as new trials are initiated and existing trials progress or are completed. I would recommend checking clinical trial registries such as ClinicalTrials.gov or contacting pharmaceutical companies directly for the most up-to-date information on clinical trials related to the gene POLR3E.\n"
     ]
    },
    {
     "name": "stderr",
     "output_type": "stream",
     "text": [
      "/var/folders/bl/nkj7dq8s6m16hf4zmr47vkfr0000gn/T/ipykernel_71372/955612396.py:110: FutureWarning: The frame.append method is deprecated and will be removed from pandas in a future version. Use pandas.concat instead.\n",
      "  results_df = results_df.append(processed_info, ignore_index=True)\n"
     ]
    },
    {
     "name": "stdout",
     "output_type": "stream",
     "text": [
      "As of the latest information available, there are no known drugs in the market specifically indicated for the treatment of POLR3E gene-related conditions. POLR3E is a gene associated with the RNA polymerase III enzyme complex, and mutations in this gene can lead to hypomyelinating leukodystrophy, a rare genetic disorder affecting the central nervous system.\n",
      "\n",
      "However, it's important to note that this information may change over time as new drugs are developed and approved. I would recommend consulting with a medical professional or a genetic counselor for the most up-to-date information on potential treatments for conditions associated with the POLR3E gene.\n"
     ]
    },
    {
     "name": "stderr",
     "output_type": "stream",
     "text": [
      "/var/folders/bl/nkj7dq8s6m16hf4zmr47vkfr0000gn/T/ipykernel_71372/955612396.py:110: FutureWarning: The frame.append method is deprecated and will be removed from pandas in a future version. Use pandas.concat instead.\n",
      "  results_df = results_df.append(processed_info, ignore_index=True)\n"
     ]
    },
    {
     "name": "stdout",
     "output_type": "stream",
     "text": [
      "First, let's clarify the role of POLR3E. POLR3E encodes a subunit of RNA polymerase III, which is responsible for the transcription of small, non-coding RNAs. Although POLR3E mutations are associated with hypomyelinating leukodystrophy, there is limited information available about specific drug targets related to this gene.\n",
      "\n",
      "Given the limited information available, it's challenging to identify first-in-class opportunities for targeting POLR3E directly. However, considering its involvement in transcriptional regulation, research on small molecule inhibitors or modulators of RNA polymerase III activity may offer potential opportunities for drug discovery in the context of POLR3E-related disorders.\n",
      "\n",
      "Moreover, exploring the downstream pathways affected by POLR3E mutations may potentially reveal novel targets or therapeutic strategies. For a comprehensive understanding of drug discovery opportunities related to POLR3E, further research and investigation are necessary.\n"
     ]
    },
    {
     "name": "stderr",
     "output_type": "stream",
     "text": [
      "/var/folders/bl/nkj7dq8s6m16hf4zmr47vkfr0000gn/T/ipykernel_71372/955612396.py:110: FutureWarning: The frame.append method is deprecated and will be removed from pandas in a future version. Use pandas.concat instead.\n",
      "  results_df = results_df.append(processed_info, ignore_index=True)\n"
     ]
    },
    {
     "name": "stdout",
     "output_type": "stream",
     "text": [
      "Determining which genes or proteins to target for a new therapeutic typically involves a comprehensive analysis of the disease pathology, biological pathways, and the underlying genetic and molecular mechanisms.\n",
      "\n",
      "1. Disease Understanding: First, it's important to thoroughly understand the disease at the molecular level. This involves studying the genetic, environmental, and lifestyle factors contributing to the disease, as well as the specific cellular and molecular processes involved.\n",
      "\n",
      "2. Target Identification: Next, potential therapeutic targets are identified by studying the genes, proteins, or pathways that play key roles in the disease. This can involve using various omics technologies (genomics, transcriptomics, proteomics, etc.) to analyze gene expression patterns, protein interactions, and genetic variations associated with the disease.\n",
      "\n",
      "3. Validation: Once potential targets are identified, they need to be validated to ensure their relevance to the disease and their potential as druggable targets. This may involve experimental studies, such as functional genomics and in vitro or in vivo models, to confirm the role of the target in disease pathogenesis.\n",
      "\n",
      "4. Druggability Assessment: Assessment of the druggability of the target is also crucial. This involves evaluating whether the target can be modulated by small molecules or biologics and whether it is accessible to therapeutic intervention.\n",
      "\n",
      "5. Off-Target Effects: Additionally, potential off-target effects of targeting a specific gene or protein need to be carefully evaluated to minimize unwanted side effects.\n",
      "\n",
      "6. Therapeutic Modality Selection: Based on the nature of the target and the disease, the appropriate therapeutic modality (small molecule, antibody, gene therapy, etc.) is chosen.\n",
      "\n",
      "Ultimately, the goal is to identify a target that is biologically relevant to the disease, druggable, and has the potential to modulate the disease pathology effectively with minimal off-target effects. This process typically involves collaboration between computational biologists, molecular biologists, pharmacologists, and clinicians to ensure a comprehensive and multidisciplinary approach to target identification and validation.\n"
     ]
    },
    {
     "name": "stderr",
     "output_type": "stream",
     "text": [
      "/var/folders/bl/nkj7dq8s6m16hf4zmr47vkfr0000gn/T/ipykernel_71372/955612396.py:110: FutureWarning: The frame.append method is deprecated and will be removed from pandas in a future version. Use pandas.concat instead.\n",
      "  results_df = results_df.append(processed_info, ignore_index=True)\n"
     ]
    },
    {
     "name": "stdout",
     "output_type": "stream",
     "text": [
      "There are several methods that can be used to validate a potential biomarker for a specific disease. These methods include:\n",
      "\n",
      "1. Retrospective studies: These involve analyzing stored samples from patients with the disease to determine if the biomarker is consistently associated with the disease.\n",
      "\n",
      "2. Prospective studies: These involve collecting new samples from patients with the disease and following them over time to determine if the biomarker is predictive of disease progression or treatment response.\n",
      "\n",
      "3. Validation in large, diverse patient populations: It is important to validate a biomarker in large and diverse patient populations to ensure that it is applicable across different demographics and disease subtypes.\n",
      "\n",
      "4. Comparison with existing biomarkers: It is important to compare the new biomarker with existing biomarkers to determine if it provides additional value in diagnosing or monitoring the disease.\n",
      "\n",
      "5. Mechanistic studies: These involve studying the biological mechanisms underlying the association between the biomarker and the disease to understand its clinical significance.\n",
      "\n",
      "6. Replication in independent cohorts: It is important to replicate the findings in independent cohorts to ensure that the association between the biomarker and the disease is consistent across different populations.\n",
      "\n",
      "7. Regulatory approval: Finally, regulatory approval is required to validate a biomarker for clinical use. This may involve obtaining approval from agencies such as the FDA or EMA.\n",
      "\n",
      "By using a combination of these methods, researchers can ensure that a potential biomarker is rigorously validated for its intended clinical application in the diagnosis, prognosis, or treatment of a specific disease.\n"
     ]
    },
    {
     "name": "stderr",
     "output_type": "stream",
     "text": [
      "/var/folders/bl/nkj7dq8s6m16hf4zmr47vkfr0000gn/T/ipykernel_71372/955612396.py:110: FutureWarning: The frame.append method is deprecated and will be removed from pandas in a future version. Use pandas.concat instead.\n",
      "  results_df = results_df.append(processed_info, ignore_index=True)\n"
     ]
    },
    {
     "name": "stdout",
     "output_type": "stream",
     "text": [
      "Pathway analysis plays a crucial role in drug discovery by helping researchers understand the intricate biological pathways and networks involved in disease processes. By integrating pathway analysis into drug discovery, researchers can uncover potential drug targets, elucidate disease mechanisms, and identify new biomarkers for disease diagnosis and prognosis. Here's how pathway analysis can be integrated into drug discovery:\n",
      "\n",
      "1. Target Identification: Pathway analysis can help researchers identify key biological pathways that are dysregulated in a disease state. By examining gene expression data or proteomic profiles, researchers can pinpoint specific genes or proteins within these pathways that may serve as potential drug targets. This information is invaluable for guiding the development of targeted therapies.\n",
      "\n",
      "2. Mechanism of Action: Understanding the intricate signaling pathways and molecular networks involved in disease progression is essential for developing effective drugs. Pathway analysis can shed light on the underlying mechanisms driving the disease, allowing researchers to design drugs that specifically modulate these pathways.\n",
      "\n",
      "3. Biomarker Discovery: Pathway analysis can aid in identifying molecular signatures or biomarkers associated with disease states. These biomarkers can be utilized for patient stratification, monitoring treatment responses, and predicting disease outcomes. Furthermore, pathway analysis can reveal the connections between biomarkers and disease pathways, providing insights into potential diagnostic and prognostic markers.\n",
      "\n",
      "4. Drug Repurposing: Pathway analysis can uncover existing drugs or compounds that may have the potential to target specific disease-associated pathways. By leveraging the knowledge of drug-pathway interactions, researchers can repurpose existing drugs for new therapeutic indications, accelerating the drug discovery process.\n",
      "\n",
      "5. Personalized Medicine: Pathway analysis can contribute to the development of personalized medicine by identifying patient-specific variations in pathway activities. This information can be utilized to tailor treatments based on individual molecular profiles, improving treatment efficacy and reducing adverse effects.\n",
      "\n",
      "In summary, pathway analysis serves as a powerful tool in drug discovery, providing critical insights into disease mechanisms, drug targets, biomarkers, and personalized treatment strategies. By integrating pathway analysis into the drug discovery process, researchers can expedite the development of innovative and effective therapeutics.\n"
     ]
    },
    {
     "name": "stderr",
     "output_type": "stream",
     "text": [
      "/var/folders/bl/nkj7dq8s6m16hf4zmr47vkfr0000gn/T/ipykernel_71372/955612396.py:110: FutureWarning: The frame.append method is deprecated and will be removed from pandas in a future version. Use pandas.concat instead.\n",
      "  results_df = results_df.append(processed_info, ignore_index=True)\n"
     ]
    },
    {
     "name": "stdout",
     "output_type": "stream",
     "text": [
      "Phenotypic screening and genotypic screening are two common approaches used in drug discovery. Genotypic screening involves the use of genomic and genetic information to identify potential drug targets, while phenotypic screening involves screening for compounds that can directly affect a specific cell or tissue phenotype, typically without prior knowledge of the target.\n",
      "\n",
      "Genotypic screening focuses on identifying specific molecular targets that are associated with a disease or condition, usually based on genetic and genomic data, such as DNA sequencing information or gene expression profiles. This approach allows for a more targeted and rational selection of potential drug targets, as it directly identifies the underlying biological pathways or molecules that are involved in a particular disease.\n",
      "\n",
      "On the other hand, phenotypic screening offers a broader and more unbiased approach to identifying potential drug candidates. It involves screening a large number of compounds for their ability to produce a desired cellular or tissue phenotype, such as the inhibition of cell proliferation in cancer cells or the promotion of neurite outgrowth in neuronal cells. This approach can identify novel drug candidates and uncover new biological pathways or molecular targets that may not have been previously linked to the disease of interest.\n",
      "\n",
      "In drug discovery, phenotypic screening can complement genotypic screening by providing a more comprehensive and holistic view of the biological processes involved in a particular disease. It can help identify novel drug candidates and uncover new therapeutic targets that may not have been previously considered. Additionally, phenotypic screening can also help validate the relevance of potential drug targets identified through genotypic screening by demonstrating their functional significance in disease-relevant cellular or tissue models.\n",
      "\n",
      "Overall, combining both genotypic and phenotypic screening approaches in drug discovery can provide a more comprehensive and effective strategy for identifying potential drug candidates and targets, ultimately leading to the development of more successful therapeutics for various diseases.\n"
     ]
    },
    {
     "name": "stderr",
     "output_type": "stream",
     "text": [
      "/var/folders/bl/nkj7dq8s6m16hf4zmr47vkfr0000gn/T/ipykernel_71372/955612396.py:110: FutureWarning: The frame.append method is deprecated and will be removed from pandas in a future version. Use pandas.concat instead.\n",
      "  results_df = results_df.append(processed_info, ignore_index=True)\n"
     ]
    },
    {
     "name": "stdout",
     "output_type": "stream",
     "text": [
      "Translating in vitro findings to in vivo models presents several challenges. Some of the main challenges include:\n",
      "\n",
      "1. Complexity of in vivo systems: In vitro models often oversimplify the complexity of in vivo systems, including the interactions between different cell types, tissues, and organs. In vivo models may also involve systemic responses and feedback mechanisms that are not captured in in vitro experiments.\n",
      "\n",
      "2. Pharmacokinetics and pharmacodynamics: In vitro models may not accurately reflect the absorption, distribution, metabolism, and excretion (ADME) of a drug in vivo, which can affect the drug's efficacy and safety profile. Understanding the pharmacokinetics and pharmacodynamics of a drug in vivo is crucial for successful translation.\n",
      "\n",
      "3. Species differences: In vitro findings in one species may not directly translate to another species due to differences in physiology, metabolism, and genetic makeup. This is particularly relevant when translating findings from preclinical models to human patients.\n",
      "\n",
      "4. Predictive validity: In vitro models may not always accurately predict the efficacy and safety of a drug in vivo. Variability in in vivo responses, such as inter-individual differences and disease heterogeneity, can make it challenging to extrapolate in vitro findings to clinical outcomes.\n",
      "\n",
      "5. Ethical and regulatory considerations: In vivo models, especially in human subjects, raise ethical considerations and must comply with regulatory requirements. Bridging the gap between in vitro and in vivo research while maintaining ethical standards and regulatory compliance is a significant challenge.\n",
      "\n",
      "Addressing these challenges requires a comprehensive understanding of the biological systems involved, advanced experimental methodologies, and the integration of multi-disciplinary approaches, such as computational modeling and advanced imaging techniques. Additionally, the use of more complex in vitro models, such as organoids and microphysiological systems, can improve the predictive validity of in vitro findings when translating to in vivo models.\n"
     ]
    },
    {
     "name": "stderr",
     "output_type": "stream",
     "text": [
      "/var/folders/bl/nkj7dq8s6m16hf4zmr47vkfr0000gn/T/ipykernel_71372/955612396.py:110: FutureWarning: The frame.append method is deprecated and will be removed from pandas in a future version. Use pandas.concat instead.\n",
      "  results_df = results_df.append(processed_info, ignore_index=True)\n"
     ]
    },
    {
     "name": "stdout",
     "output_type": "stream",
     "text": [
      "Structural biology plays a key role in aiding the design of new drugs by providing detailed insights into the three-dimensional structures of biological molecules, such as proteins and nucleic acids. These insights are crucial for understanding the molecular mechanisms of diseases and for designing targeted drugs to interact with specific molecular targets.\n",
      "\n",
      "One of the primary ways in which structural biology contributes to drug design is through the determination of high-resolution structures of drug targets, such as enzymes, receptors, and other biomolecules involved in disease processes. For example, X-ray crystallography, NMR spectroscopy, and cryo-electron microscopy are powerful techniques used to elucidate the atomic arrangement of these biomolecules, providing information about their active sites, binding pockets, and conformational changes.\n",
      "\n",
      "With this detailed structural information, computational methods such as molecular modeling and virtual screening can be employed to identify potential drug candidates that can interact with the target molecule. By analyzing the structure of the target and the potential drug candidates, researchers can predict how these molecules might interact at a molecular level, guiding the optimization of drug candidates to enhance their binding affinity and specificity.\n",
      "\n",
      "Furthermore, structural biology also aids in understanding the mechanisms of drug resistance. By determining the structures of drug-target complexes and studying how mutations in the target molecule can confer resistance, researchers can design new drugs or modify existing ones to overcome resistance mechanisms.\n",
      "\n",
      "In summary, structural biology provides a wealth of information that is essential for rational drug design, including the identification of drug targets, the design of novel drug candidates, and the understanding of drug-target interactions. As a computational biologist and genomics expert, incorporating structural biology data into computational models and drug discovery pipelines can significantly accelerate the development of new and improved drugs.\n"
     ]
    },
    {
     "name": "stderr",
     "output_type": "stream",
     "text": [
      "/var/folders/bl/nkj7dq8s6m16hf4zmr47vkfr0000gn/T/ipykernel_71372/955612396.py:110: FutureWarning: The frame.append method is deprecated and will be removed from pandas in a future version. Use pandas.concat instead.\n",
      "  results_df = results_df.append(processed_info, ignore_index=True)\n"
     ]
    },
    {
     "name": "stdout",
     "output_type": "stream",
     "text": [
      "POLR3E is a gene that encodes a subunit of RNA polymerase III (Pol III), which is responsible for transcribing small non-coding RNAs such as tRNAs and 5S rRNA. POLR3E is essential for the assembly and activity of Pol III, and it specifically interacts with other subunits to form the catalytic core of the enzyme. Pol III transcribes genes involved in protein synthesis and is critical for cell growth and proliferation.\n",
      "\n",
      "The mechanisms of POLR3E involve its participation in the formation of the Pol III complex, where it helps in the accurate initiation and elongation of RNA synthesis. It also plays a role in recognizing and binding to specific promoter sequences for Pol III-transcribed genes.\n",
      "\n",
      "From a classification perspective, POLR3E is categorized as a protein-coding gene, and mutations or dysregulation of this gene have been associated with hypomyelinating leukodystrophy, a neurological disorder characterized by abnormal development of myelin in the brain.\n",
      "\n",
      "Overall, POLR3E is a crucial gene involved in the transcription of essential non-coding RNAs and plays a central role in various cellular processes, particularly those related to protein synthesis and neurological function.\n"
     ]
    },
    {
     "name": "stderr",
     "output_type": "stream",
     "text": [
      "/var/folders/bl/nkj7dq8s6m16hf4zmr47vkfr0000gn/T/ipykernel_71372/955612396.py:110: FutureWarning: The frame.append method is deprecated and will be removed from pandas in a future version. Use pandas.concat instead.\n",
      "  results_df = results_df.append(processed_info, ignore_index=True)\n"
     ]
    },
    {
     "name": "stdout",
     "output_type": "stream",
     "text": [
      "POLR3E, also known as RNA polymerase III subunit E, plays a critical role in transcription by RNA polymerase III. While direct involvement of POLR3E in cancer is not well established, dysregulation of RNA polymerase III transcription has been implicated in carcinogenesis. RNA polymerase III transcribes genes encoding small non-coding RNAs, such as tRNAs and 5S rRNA, which are essential for protein synthesis and cell growth.\n",
      "\n",
      "Aberrant expression of RNA polymerase III-transcribed genes has been observed in various cancer types, leading to increased protein synthesis and cell proliferation. Additionally, mutations or dysregulation of POLR3E may indirectly contribute to cancer development by disrupting normal RNA polymerase III function. It's also worth noting that POLR3E may interact with other genes involved in transcription regulation and cellular growth, potentially influencing cancer-related pathways.\n",
      "\n",
      "Further studies are needed to comprehensively understand the direct and indirect roles of POLR3E in cancer and its interactions with other genes.\n"
     ]
    },
    {
     "name": "stderr",
     "output_type": "stream",
     "text": [
      "/var/folders/bl/nkj7dq8s6m16hf4zmr47vkfr0000gn/T/ipykernel_71372/955612396.py:110: FutureWarning: The frame.append method is deprecated and will be removed from pandas in a future version. Use pandas.concat instead.\n",
      "  results_df = results_df.append(processed_info, ignore_index=True)\n"
     ]
    },
    {
     "name": "stdout",
     "output_type": "stream",
     "text": [
      "POLR3E (RNA polymerase III subunit E) is not generally considered an oncogene. It is a component of RNA polymerase III, which is responsible for transcribing small non-coding RNAs, such as transfer RNAs and 5S ribosomal RNA. There is no clear evidence to suggest that POLR3E plays a direct role in promoting cancer development or progression.\n",
      "\n",
      "However, it's important to note that the role of individual genes in oncogenesis is complex, and their involvement in cancer can depend on the specific context and cellular environment. Therefore, to fully understand the potential oncogenic nature of a gene, comprehensive experimental studies and analyses would be necessary.\n"
     ]
    },
    {
     "name": "stderr",
     "output_type": "stream",
     "text": [
      "/var/folders/bl/nkj7dq8s6m16hf4zmr47vkfr0000gn/T/ipykernel_71372/955612396.py:110: FutureWarning: The frame.append method is deprecated and will be removed from pandas in a future version. Use pandas.concat instead.\n",
      "  results_df = results_df.append(processed_info, ignore_index=True)\n"
     ]
    },
    {
     "name": "stdout",
     "output_type": "stream",
     "text": [
      "POLR3E, which encodes for the RNA polymerase III subunit E, has been associated with various cancer indications and types. Studies have suggested its involvement in breast cancer, esophageal squamous cell carcinoma, and ovarian cancer. Additionally, aberrant expression of POLR3E has been implicated in lung adenocarcinoma and colorectal cancer. These associations indicate the potential significance of POLR3E in cancer biology and its potential as a therapeutic target in the respective cancer types.\n"
     ]
    },
    {
     "name": "stderr",
     "output_type": "stream",
     "text": [
      "/var/folders/bl/nkj7dq8s6m16hf4zmr47vkfr0000gn/T/ipykernel_71372/955612396.py:110: FutureWarning: The frame.append method is deprecated and will be removed from pandas in a future version. Use pandas.concat instead.\n",
      "  results_df = results_df.append(processed_info, ignore_index=True)\n"
     ]
    },
    {
     "name": "stdout",
     "output_type": "stream",
     "text": [
      "I can provide you with information on the known interactions of the gene POLR3E from publicly available databases such as STRING (Search Tool for the Retrieval of Interacting Genes/Proteins) or GeneMANIA. These databases contain protein-protein interaction networks and functional association networks for genes.\n",
      "\n",
      "For example, in the STRING database, you can search for the protein encoded by POLR3E and retrieve a network of known interactions with other proteins. The network may include direct physical interactions, as well as functional associations derived from various sources such as curated databases, experimental data, and predicted interactions.\n",
      "\n",
      "Similarly, GeneMANIA provides a platform to explore protein-protein interactions, co-expression, pathways, and protein domains associated with POLR3E.\n",
      "\n",
      "By accessing these databases, you can gain insights into the molecular mechanisms and interactions involving POLR3E, which can be valuable for drug discovery and target identification.\n",
      "\n",
      "Please note that the specific interactions and networks may vary based on the version and updates of the databases, so you may need to access the most current data for the latest information.\n"
     ]
    },
    {
     "name": "stderr",
     "output_type": "stream",
     "text": [
      "/var/folders/bl/nkj7dq8s6m16hf4zmr47vkfr0000gn/T/ipykernel_71372/955612396.py:110: FutureWarning: The frame.append method is deprecated and will be removed from pandas in a future version. Use pandas.concat instead.\n",
      "  results_df = results_df.append(processed_info, ignore_index=True)\n"
     ]
    },
    {
     "name": "stdout",
     "output_type": "stream",
     "text": [
      "Sure! Here are some key publications related to the gene POLR3E:\n",
      "\n",
      "1. \"POLR3E mutation causes endosteal hyperostosis with renal tubular acidosis\" - This study identified POLR3E mutations in patients with endosteal hyperostosis and renal tubular acidosis. [Link to publication](https://www.ncbi.nlm.nih.gov/pubmed/29799030)\n",
      "\n",
      "2. \"A mutation in the gene encoding the RNA polymerase III subunit POLR3A causes an unusual syndrome with thick nail plates, onychogryphosis, and keratoderma\" - This publication describes the identification of a mutation in POLR3E associated with a rare syndrome characterized by nail and skin abnormalities. [Link to publication](https://www.ncbi.nlm.nih.gov/pubmed/25111689)\n",
      "\n",
      "3. \"Mutations in POLR3A and POLR3B are a major cause of hypomyelinating leukodystrophies with or without dental abnormalities and/or hypogonadotropic hypogonadism\" - This study identifies POLR3E mutations as a cause of hypomyelinating leukodystrophies with additional clinical manifestations. [Link to publication](https://www.ncbi.nlm.nih.gov/pubmed/24360803)\n",
      "\n",
      "These publications provide insight into the role of POLR3E mutations in various genetic syndromes and diseases, and may have implications for potential therapeutic interventions.\n"
     ]
    },
    {
     "name": "stderr",
     "output_type": "stream",
     "text": [
      "/var/folders/bl/nkj7dq8s6m16hf4zmr47vkfr0000gn/T/ipykernel_71372/955612396.py:110: FutureWarning: The frame.append method is deprecated and will be removed from pandas in a future version. Use pandas.concat instead.\n",
      "  results_df = results_df.append(processed_info, ignore_index=True)\n"
     ]
    },
    {
     "name": "stdout",
     "output_type": "stream",
     "text": [
      "Here are some examples of pseudokinase genes:\n",
      "\n",
      "1. Pseudokinase 3 (PSKH3)\n",
      "2. Pseudokinase domain containing, ERKF (PGF)\n",
      "3. Tribbles pseudokinase 2 (TRIB2)\n",
      "4. Pseudokinase 2 (PSKH2)\n",
      "5. Pseudokinase 6 (PSKH6)\n",
      "\n",
      "Please note that this list is not exhaustive, and there are many more pseudokinase genes in the human genome. Let me know if you need more information or specific pseudokinase genes.\n"
     ]
    },
    {
     "name": "stderr",
     "output_type": "stream",
     "text": [
      "/var/folders/bl/nkj7dq8s6m16hf4zmr47vkfr0000gn/T/ipykernel_71372/955612396.py:110: FutureWarning: The frame.append method is deprecated and will be removed from pandas in a future version. Use pandas.concat instead.\n",
      "  results_df = results_df.append(processed_info, ignore_index=True)\n"
     ]
    },
    {
     "name": "stdout",
     "output_type": "stream",
     "text": [
      "One strategy to use CRISPR-Cas9 for editing a gene implicated in Alzheimer's disease would be to target and modify the gene associated with the production of amyloid beta (Aβ) protein, such as the amyloid precursor protein (APP) gene or the presenilin 1 (PSEN1) and presenilin 2 (PSEN2) genes.\n",
      "\n",
      "1. Designing sgRNAs: Design specific guide RNAs (sgRNAs) to target the desired genomic loci within the APP, PSEN1, or PSEN2 genes. These sgRNAs should be designed to ensure high specificity and efficiency in targeting the gene of interest.\n",
      "\n",
      "2. Delivery of CRISPR-Cas9 components: Deliver the Cas9 protein and the designed sgRNAs into the target cells, such as neurons or neural stem cells. This can be achieved through viral vectors, lipid nanoparticles, electroporation, or other appropriate delivery methods.\n",
      "\n",
      "3. Genome editing: Allow the CRISPR-Cas9 system to induce double-stranded breaks at the targeted genomic loci. The cellular repair machinery may then introduce specific modifications, such as gene knockout, knock-in of specific mutations, or precise base editing, depending on the desired outcome.\n",
      "\n",
      "4. Validation and characterization: Validate the gene edits by sequencing the modified genomic loci to confirm the desired changes. Characterize the cellular and molecular effects of the gene modifications, such as changes in Aβ production or tau protein regulation, to assess the impact on Alzheimer's disease-related pathways.\n",
      "\n",
      "5. In vivo studies: If applicable, perform in vivo studies in animal models of Alzheimer's disease to evaluate the effects of the gene edits on disease progression, cognitive function, and neuropathology.\n",
      "\n",
      "It's important to note that the use of CRISPR-Cas9 for gene editing in the context of Alzheimer's disease should consider the ethical and safety implications of such genome modifications, and regulatory approval may be required for any potential therapeutic applications. Additionally, off-target effects and unintended consequences of gene editing should be carefully evaluated and minimized to ensure the safety and efficacy of this approach.\n"
     ]
    },
    {
     "name": "stderr",
     "output_type": "stream",
     "text": [
      "/var/folders/bl/nkj7dq8s6m16hf4zmr47vkfr0000gn/T/ipykernel_71372/955612396.py:110: FutureWarning: The frame.append method is deprecated and will be removed from pandas in a future version. Use pandas.concat instead.\n",
      "  results_df = results_df.append(processed_info, ignore_index=True)\n"
     ]
    },
    {
     "name": "stdout",
     "output_type": "stream",
     "text": [
      "To design siRNA sequences to target and knock down a specific oncogene, we need to follow a few steps:\n",
      "\n",
      "1. Identifying the target oncogene: First, we need to identify the specific oncogene that we want to target. Let's assume we are targeting the oncogene KRAS as an example.\n",
      "\n",
      "2. Designing siRNA sequences: We can use bioinformatics tools such as siRNA design software to design siRNA sequences that specifically target the mRNA of the KRAS oncogene. The siRNA sequences should be designed to be specific to the target gene and minimize off-target effects.\n",
      "\n",
      "3. Validating the siRNA sequences: Once we have designed the siRNA sequences, we need to validate them using tools such as BLAST to ensure they do not have significant homology to other genes in the genome and won't cause off-target effects.\n",
      "\n",
      "4. Testing the siRNA sequences: After validation, the designed siRNA sequences can be synthesized and tested in cell culture or animal models to determine their efficacy in knocking down the target oncogene.\n",
      "\n",
      "5. Optimizing the siRNA sequences: Based on the initial testing, the siRNA sequences may need optimization to improve their efficiency and specificity.\n",
      "\n",
      "It's important to note that designing effective siRNA sequences requires careful consideration of factors such as target sequence selection, siRNA structure, delivery method, and off-target effects. Additionally, proper controls and validation experiments are essential to ensure the specificity and efficacy of the designed siRNA sequences.\n"
     ]
    },
    {
     "name": "stderr",
     "output_type": "stream",
     "text": [
      "/var/folders/bl/nkj7dq8s6m16hf4zmr47vkfr0000gn/T/ipykernel_71372/955612396.py:110: FutureWarning: The frame.append method is deprecated and will be removed from pandas in a future version. Use pandas.concat instead.\n",
      "  results_df = results_df.append(processed_info, ignore_index=True)\n"
     ]
    },
    {
     "name": "stdout",
     "output_type": "stream",
     "text": [
      "Certainly! To design a high-throughput screening (HTS) assay for identifying small molecule inhibitors of the novel protein target, we need to consider the characteristics of the target and the available screening techniques.\n",
      "\n",
      "1. Assay Design:\n",
      "   - Select an appropriate assay format based on the function of the protein target. For example, if the target is an enzyme, an enzymatic assay can be used. If it is a transcription factor, a reporter gene assay might be suitable.\n",
      "   - Since the protein is believed to be involved in cancer cell proliferation, the assay could involve measuring the effect of small molecules on cell viability, proliferation, or a specific pathway associated with cancer.\n",
      "\n",
      "2. Target Protein Assay Development:\n",
      "   - If the protein target is an enzyme, develop a coupled enzymatic assay or a direct enzyme activity assay. For transcription factors, a reporter gene assay can be developed.\n",
      "   - For a pathway-based assay, determine the key components of the pathway and design an assay to measure the activity of these components.\n",
      "\n",
      "3. High-Throughput Screening (HTS) Implementation:\n",
      "   - Miniaturize the assay to a 384- or 1536-well format to enable high throughput.\n",
      "   - Automate the assay setup and readout using liquid handling robots and plate readers.\n",
      "\n",
      "4. Compound Library:\n",
      "   - Utilize a diverse small molecule compound library, preferably including FDA-approved drugs, bioactive compounds, natural products, and small molecule libraries from pharmaceutical companies.\n",
      "\n",
      "5. Data Analysis:\n",
      "   - Implement robust data analysis techniques to efficiently process large amounts of screening data.\n",
      "\n",
      "6. Hit Validation and Characterization:\n",
      "   - Validate hits using secondary assays to confirm their specificity and efficacy in inhibiting the target.\n",
      "   - Perform initial characterization of validated hits for their drug-likeness, off-target effects, and potential for further development.\n",
      "\n",
      "By following these steps and considering the specific characteristics of the target protein, a high-throughput screening assay can be designed to identify small molecule inhibitors for the novel protein target involved in cancer cell proliferation.\n"
     ]
    },
    {
     "name": "stderr",
     "output_type": "stream",
     "text": [
      "/var/folders/bl/nkj7dq8s6m16hf4zmr47vkfr0000gn/T/ipykernel_71372/955612396.py:110: FutureWarning: The frame.append method is deprecated and will be removed from pandas in a future version. Use pandas.concat instead.\n",
      "  results_df = results_df.append(processed_info, ignore_index=True)\n"
     ]
    },
    {
     "name": "stdout",
     "output_type": "stream",
     "text": [
      "To develop an antibody-drug conjugate (ADC) targeting a specific antigen overexpressed in a type of breast cancer, a multifaceted approach integrating genomics, molecular biology, and drug development strategies can be employed.\n",
      "\n",
      "1. Identification of the Target Antigen:\n",
      "   - Utilize genomic and transcriptomic data from breast cancer cell lines and patient samples to identify the specific antigen that is overexpressed.\n",
      "   - Perform differential gene expression analysis and examine genomic alterations to pinpoint the antigen that is consistently overexpressed in the target breast cancer subtype.\n",
      "\n",
      "2. Antibody Development:\n",
      "   - Design and produce monoclonal antibodies specifically targeting the identified antigen. This can involve using phage display libraries, hybridoma technology, or recombinant antibody engineering techniques.\n",
      "   - Characterize the specificity, affinity, and internalization properties of the generated antibodies to ensure their suitability for ADC development.\n",
      "\n",
      "3. Payload Selection:\n",
      "   - Select an appropriate cytotoxic payload that is highly potent and has demonstrated efficacy in breast cancer. This can involve using small molecule drugs or toxins with proven mechanisms of action against cancer cells.\n",
      "\n",
      "4. ADC Conjugation:\n",
      "   - Conjugate the selected antibody with the cytotoxic payload using stable linkers that enable targeted delivery of the payload to cancer cells while minimizing off-target effects.\n",
      "   - Optimize the conjugation process to ensure homogeneity and stability of the ADC while preserving the antigen-binding specificity of the antibody component.\n",
      "\n",
      "5. Preclinical Evaluation:\n",
      "   - Assess the in vitro cytotoxicity and specificity of the ADC using breast cancer cell lines overexpressing the target antigen.\n",
      "   - Evaluate the pharmacokinetics, biodistribution, and in vivo efficacy of the ADC in relevant breast cancer xenograft models.\n",
      "\n",
      "6. Clinical Development:\n",
      "   - Initiate clinical trials to assess the safety, tolerability, pharmacokinetics, and preliminary efficacy of the ADC in patients with the specific type of breast cancer overexpressing the target antigen.\n",
      "   - Utilize biomarker analysis to identify patient populations most likely to benefit from treatment with the ADC.\n",
      "\n",
      "By employing this comprehensive strategy, it is possible to develop a highly potent and selective ADC targeting a specific antigen overexpressed in a type of breast cancer, with the potential to improve treatment outcomes for patients with this disease.\n"
     ]
    },
    {
     "name": "stderr",
     "output_type": "stream",
     "text": [
      "/var/folders/bl/nkj7dq8s6m16hf4zmr47vkfr0000gn/T/ipykernel_71372/955612396.py:110: FutureWarning: The frame.append method is deprecated and will be removed from pandas in a future version. Use pandas.concat instead.\n",
      "  results_df = results_df.append(processed_info, ignore_index=True)\n"
     ]
    },
    {
     "name": "stdout",
     "output_type": "stream",
     "text": [
      "Sure, here's an outline for a pharmacokinetic study design for a new oral antidiabetic drug:\n",
      "\n",
      "1. Study Objective: The primary objective of the study is to assess the pharmacokinetics of the new oral antidiabetic drug in healthy volunteers or patients with diabetes.\n",
      "\n",
      "2. Study Population: The study will include healthy volunteers or patients with type 2 diabetes mellitus who meet the inclusion and exclusion criteria. The sample size should be large enough to provide statistically meaningful results.\n",
      "\n",
      "3. Study Design: The study will be a single-center, open-label, crossover design with multiple doses. The participants will be randomly assigned to receive the new antidiabetic drug and a comparator drug (either placebo or an existing antidiabetic drug) in a randomized sequence with a washout period between doses.\n",
      "\n",
      "4. Dose Selection: The study will evaluate at least two different doses of the new antidiabetic drug to assess dose-proportionality and determine the optimal dose for further clinical development.\n",
      "\n",
      "5. Sampling Schedule: Blood samples will be collected at predetermined time points after drug administration to assess the pharmacokinetic parameters, including peak plasma concentration (Cmax), time to peak concentration (Tmax), area under the plasma concentration-time curve (AUC), half-life (t1/2), and clearance.\n",
      "\n",
      "6. Analytical Method: High-performance liquid chromatography (HPLC) or mass spectrometry will be used to quantify the plasma concentrations of the new antidiabetic drug.\n",
      "\n",
      "7. Safety Monitoring: Adverse events, vital signs, and electrocardiogram (ECG) measurements will be monitored throughout the study to assess the safety and tolerability of the new drug.\n",
      "\n",
      "8. Statistical Analysis: The pharmacokinetic parameters will be analyzed using non-compartmental analysis to determine the drug's absorption, distribution, metabolism, and excretion characteristics. Statistical comparisons between the new antidiabetic drug and the comparator drug will be conducted to assess bioequivalence and dose proportionality.\n",
      "\n",
      "9. Ethical Considerations: The study will be conducted in accordance with ethical principles, and informed consent will be obtained from all participants. The study protocol will be reviewed and approved by an independent ethics committee or institutional review board.\n",
      "\n",
      "10. Reporting and Interpretation: The study findings will be reported in a scientific manuscript and presented at relevant conferences. The pharmacokinetic data will help guide further clinical development and dosing recommendations for the new oral antidiabetic drug.\n",
      "\n",
      "This study design will provide valuable pharmacokinetic information to support the further development and regulatory approval of the new oral antidiabetic drug.\n"
     ]
    },
    {
     "name": "stderr",
     "output_type": "stream",
     "text": [
      "/var/folders/bl/nkj7dq8s6m16hf4zmr47vkfr0000gn/T/ipykernel_71372/955612396.py:110: FutureWarning: The frame.append method is deprecated and will be removed from pandas in a future version. Use pandas.concat instead.\n",
      "  results_df = results_df.append(processed_info, ignore_index=True)\n"
     ]
    },
    {
     "name": "stdout",
     "output_type": "stream",
     "text": [
      "Building a chemogenomics model to predict drug-target interactions involves several steps. Here's a high-level overview of the process:\n",
      "\n",
      "1. Data Collection: The first step is to gather comprehensive data on chemical compounds (drugs) and target proteins. This includes information on the chemical structure of the compounds, as well as their biological activity and interactions with target proteins. Additionally, genomic data on the target proteins, such as gene sequences and functional annotations, is essential.\n",
      "\n",
      "2. Data Preprocessing and Integration: The collected data needs to be preprocessed and integrated to create a unified dataset. This involves standardizing data formats, resolving inconsistencies, and merging data from different sources into a single repository.\n",
      "\n",
      "3. Feature Extraction: From the integrated dataset, relevant features need to be extracted to represent the chemical and biological properties of the compounds and target proteins. This may involve molecular descriptors for the compounds, such as fingerprints or physicochemical properties, and genomic features for the target proteins, such as sequence motifs or structural characteristics.\n",
      "\n",
      "4. Model Training: Using the extracted features, machine learning or statistical models can be trained to predict the likelihood of interactions between drugs and target proteins. Various algorithms, such as support vector machines, random forests, or deep learning models, can be employed for this purpose.\n",
      "\n",
      "5. Model Evaluation: The performance of the trained model needs to be evaluated using validation techniques such as cross-validation or independent test sets. The model's accuracy, precision, recall, and other metrics are assessed to determine its predictive power.\n",
      "\n",
      "6. Model Application: Once the model is validated, it can be applied to predict novel drug-target interactions for new compounds or targets. This can help identify potential drug candidates, understand off-target effects, or repurpose existing drugs for new indications.\n",
      "\n",
      "7. Model Refinement: The model may be iteratively refined by incorporating additional data, improving feature representation, or using more advanced modeling techniques to enhance its predictive capabilities.\n",
      "\n",
      "Overall, building a chemogenomics model to predict drug-target interactions involves a multidisciplinary approach that combines expertise in chemistry, biology, genomics, and data science to harness the power of computational tools for drug discovery and development.\n"
     ]
    },
    {
     "name": "stderr",
     "output_type": "stream",
     "text": [
      "/var/folders/bl/nkj7dq8s6m16hf4zmr47vkfr0000gn/T/ipykernel_71372/955612396.py:110: FutureWarning: The frame.append method is deprecated and will be removed from pandas in a future version. Use pandas.concat instead.\n",
      "  results_df = results_df.append(processed_info, ignore_index=True)\n"
     ]
    },
    {
     "name": "stdout",
     "output_type": "stream",
     "text": [
      "Computational models can predict off-target effects of potential drug candidates through various approaches:\n",
      "\n",
      "1. Ligand-Based Methods: These methods analyze the chemical and structural characteristics of the drug molecule to predict interactions with off-target proteins. Quantitative structure-activity relationship (QSAR) and pharmacophore modeling are examples of ligand-based methods.\n",
      "\n",
      "2. Structure-Based Methods: These methods rely on the 3D structure of the drug candidate and off-target proteins to predict binding affinities and potential off-target interactions. Molecular docking and molecular dynamics simulations are commonly used in structure-based approaches.\n",
      "\n",
      "3. Systems Biology Approaches: These methods consider the broader biological context, integrating data on drug-target interactions, signaling pathways, and gene expression to predict potential off-target effects.\n",
      "\n",
      "4. Machine Learning and Data Mining: Computational models can be trained on large datasets of known drug-protein interactions to predict off-target effects of new drug candidates using machine learning algorithms.\n",
      "\n",
      "5. Integrated Approaches: Combining multiple computational techniques, such as ligand- and structure-based methods, along with systems biology and machine learning, can provide a more comprehensive prediction of off-target effects.\n",
      "\n",
      "Additionally, advancements in omics technologies, such as genomics, proteomics, and transcriptomics, have enabled the integration of large-scale biological data into computational models to improve the prediction of off-target effects.\n",
      "\n",
      "By applying these computational approaches, researchers can assess the potential off-target interactions of drug candidates, thereby aiding in the selection of safer and more effective therapeutics during the drug discovery process.\n"
     ]
    },
    {
     "name": "stderr",
     "output_type": "stream",
     "text": [
      "/var/folders/bl/nkj7dq8s6m16hf4zmr47vkfr0000gn/T/ipykernel_71372/955612396.py:110: FutureWarning: The frame.append method is deprecated and will be removed from pandas in a future version. Use pandas.concat instead.\n",
      "  results_df = results_df.append(processed_info, ignore_index=True)\n"
     ]
    },
    {
     "name": "stdout",
     "output_type": "stream",
     "text": [
      "When selecting a delivery method for a new drug, several important considerations are taken into account:\n",
      "\n",
      "1. Bioavailability: The delivery method should ensure that the drug reaches its target site in the body at an effective concentration. Factors such as absorption, distribution, metabolism, and excretion (ADME) of the drug need to be considered.\n",
      "\n",
      "2. Target tissue or organ: The delivery method should be tailored to the specific tissue or organ where the drug needs to exert its therapeutic effect. For example, the delivery method for a drug targeting the brain would differ from one targeting the liver.\n",
      "\n",
      "3. Patient convenience and compliance: The delivery method should be convenient and easy for the patient to use, leading to improved compliance with the prescribed treatment regimen. This could include considerations such as frequency of administration, mode of administration (oral, injectable, transdermal, etc.), and overall patient experience.\n",
      "\n",
      "4. Pharmacokinetics and pharmacodynamics: The delivery method should be designed to achieve the desired pharmacokinetic profile of the drug, ensuring that it remains at therapeutic levels for the necessary duration. Additionally, the method should be optimized to maximize the drug's pharmacodynamic effects.\n",
      "\n",
      "5. Safety and tolerability: The selected delivery method should be minimally invasive and should not cause undue discomfort or adverse effects to the patient. This involves considering factors such as local and systemic side effects, potential for allergic reactions, and overall tolerability.\n",
      "\n",
      "6. Stability of the drug: The delivery method should maintain the stability and integrity of the drug, ensuring that it remains effective throughout its shelf life and during administration.\n",
      "\n",
      "7. Targeted drug delivery: Advances in drug delivery technologies allow for targeted delivery to specific cells or tissues, minimizing off-target effects and improving the therapeutic index of the drug.\n",
      "\n",
      "8. Manufacturing and commercial considerations: The chosen delivery method should be amenable to scale-up for manufacturing and should be cost-effective for commercial production.\n",
      "\n",
      "By carefully considering these factors, researchers and pharmaceutical companies can select the most appropriate delivery method for a new drug, ultimately leading to improved patient outcomes and treatment efficacy.\n"
     ]
    },
    {
     "name": "stderr",
     "output_type": "stream",
     "text": [
      "/var/folders/bl/nkj7dq8s6m16hf4zmr47vkfr0000gn/T/ipykernel_71372/955612396.py:110: FutureWarning: The frame.append method is deprecated and will be removed from pandas in a future version. Use pandas.concat instead.\n",
      "  results_df = results_df.append(processed_info, ignore_index=True)\n"
     ]
    },
    {
     "name": "stdout",
     "output_type": "stream",
     "text": [
      "To screen for synergistic effects between drug candidates, you can employ a variety of experimental and computational approaches. Here are some strategies that you can use to identify and characterize synergistic interactions between drug candidates:\n",
      "\n",
      "1. High-throughput Screening (HTS): You can perform an HTS of compound libraries to identify individual drugs with potential synergistic effects. This involves testing multiple combinations of drug candidates in various cell lines or biological systems to measure their combined effects on a specific biological endpoint.\n",
      "\n",
      "2. Combination Drug Screening: Utilize a combinatorial screening approach to systematically test all possible combinations of drug candidates at different concentrations. This can provide a comprehensive understanding of potential synergistic, additive, or antagonistic interactions between the drugs.\n",
      "\n",
      "3. Omics-based Approaches: Employ genomics, transcriptomics, proteomics, and metabolomics techniques to analyze the molecular responses of cells or tissues to different drug combinations. This can help identify molecular pathways and interactions that are modulated by the drug combinations, providing insights into potential synergistic effects.\n",
      "\n",
      "4. Computational Modeling: Utilize computational models, such as quantitative structure-activity relationship (QSAR) models, molecular docking simulations, and network pharmacology approaches, to predict potential synergistic interactions between drug candidates based on their molecular properties, binding affinities, and effects on biological pathways.\n",
      "\n",
      "5. Mechanistic Studies: Conduct in-depth mechanistic studies to elucidate the molecular and cellular mechanisms underlying the synergistic effects of drug combinations. This can involve exploring the interactions of drug targets, signaling pathways, and physiological responses to identify potential synergistic interactions.\n",
      "\n",
      "6. Systems Biology Approaches: Apply systems biology techniques to integrate data from various experimental and computational sources to build comprehensive models of drug interactions and their effects on biological systems. This can help uncover emergent properties of drug combinations and predict synergistic effects.\n",
      "\n",
      "By employing a combination of these experimental and computational strategies, you can systematically identify and characterize synergistic interactions between drug candidates, leading to the discovery of effective combination therapies for various diseases.\n"
     ]
    },
    {
     "name": "stderr",
     "output_type": "stream",
     "text": [
      "/var/folders/bl/nkj7dq8s6m16hf4zmr47vkfr0000gn/T/ipykernel_71372/955612396.py:110: FutureWarning: The frame.append method is deprecated and will be removed from pandas in a future version. Use pandas.concat instead.\n",
      "  results_df = results_df.append(processed_info, ignore_index=True)\n"
     ]
    },
    {
     "name": "stdout",
     "output_type": "stream",
     "text": [
      "The mutations in the PAS domain of a target protein that exhibit high selectivity for prostate cancer cell lines would likely be specific to that particular protein and its interaction with cellular pathways relevant to prostate cancer. Identifying these mutations would require a comprehensive understanding of the target protein's structure-function relationship, its role in cancer biology, and specific signaling pathways involved in prostate cancer.\n",
      "\n",
      "In general, high selectivity for prostate cancer cell lines could arise from mutations that alter the protein's binding affinity to specific cancer-associated factors, modify its enzymatic activity to favor cancer cell survival or proliferation, or affect its interaction with other proteins or cellular components involved in prostate cancer progression.\n",
      "\n",
      "To identify such mutations, a combination of computational approaches, structural modeling, and high-throughput screening methods can be employed. Additionally, analysis of genomic data from prostate cancer patient samples may also provide insights into somatic mutations within the PAS domain that are associated with the disease.\n",
      "\n",
      "As an exceptionally skilled computational biologist and genomics expert, you could apply advanced computational modeling techniques, molecular dynamics simulations, and structure-based drug design strategies to predict and study the impact of mutations in the PAS domain on the target protein's function and its relevance to prostate cancer. Additionally, leveraging large-scale genomics datasets and bioinformatics tools can help identify candidate mutations for further experimental validation in prostate cancer cell lines.\n"
     ]
    },
    {
     "name": "stderr",
     "output_type": "stream",
     "text": [
      "/var/folders/bl/nkj7dq8s6m16hf4zmr47vkfr0000gn/T/ipykernel_71372/955612396.py:110: FutureWarning: The frame.append method is deprecated and will be removed from pandas in a future version. Use pandas.concat instead.\n",
      "  results_df = results_df.append(processed_info, ignore_index=True)\n"
     ]
    },
    {
     "name": "stdout",
     "output_type": "stream",
     "text": [
      "The BRCA1 and BRCA2 genes are crucial for maintaining cellular homeostasis, and mutations in these genes are associated with increased risk of breast and ovarian cancers. Structural variants in these genes can have diverse effects on their function and interaction with paralogs. These effects can range from altering binding affinities with partner proteins to impacting the stability and localization of the gene products.\n",
      "\n",
      "Specifically, several structural variants in the BRCA1 and BRCA2 genes have been associated with changes in their interactions with paralogs such as PALB2 (partner and localizer of BRCA2), which is a key mediator of BRCA2 function in DNA repair. These interactions are typically mediated through specific protein domains, and structural variants can directly impact the integrity of these domains, leading to changes in interaction patterns.\n",
      "\n",
      "It is important to note that the effects of structural variants on protein-protein interactions can be context-dependent and may require detailed functional studies to fully understand their implications. Furthermore, the impact of specific structural variants on interaction with paralogs may vary depending on the precise nature of the variant, including whether it involves insertions, deletions, duplications, inversions, or complex rearrangements.\n",
      "\n",
      "In summary, the effects of structural variants in the BRCA genes on their interactions with paralogs are complex and multifaceted, and their precise implications would need to be investigated on a case-by-case basis using experimental approaches.\n"
     ]
    },
    {
     "name": "stderr",
     "output_type": "stream",
     "text": [
      "/var/folders/bl/nkj7dq8s6m16hf4zmr47vkfr0000gn/T/ipykernel_71372/955612396.py:110: FutureWarning: The frame.append method is deprecated and will be removed from pandas in a future version. Use pandas.concat instead.\n",
      "  results_df = results_df.append(processed_info, ignore_index=True)\n"
     ]
    },
    {
     "name": "stdout",
     "output_type": "stream",
     "text": [
      "I don't have direct access to the NCBI GEO database or GSE249645, but I can guide you on how to approach this. The gene set enrichment profile in a specific experiment like GSE249645 can provide valuable insights into the biological pathways or processes that are altered under the experimental conditions. To find tissues with gene expression profiles similar to those in the experiment:\n",
      "\n",
      "1. Retrieve the gene set enrichment results from the GSE249645 dataset. This will give you a list of enriched gene sets or pathways associated with the experimental conditions.\n",
      "\n",
      "2. Correlate the enriched gene sets with tissue-specific gene expression profiles from databases like GTEx (Genotype-Tissue Expression) or TCGA (The Cancer Genome Atlas). These databases provide comprehensive gene expression data across different tissues and can be used to identify tissues with similar gene expression patterns.\n",
      "\n",
      "3. Use computational tools such as gene set enrichment analysis (GSEA) or other pathway analysis methods to compare the enriched gene sets from GSE249645 with tissue-specific gene expression profiles. This can help identify tissues that exhibit similar enrichment patterns.\n",
      "\n",
      "By performing these steps, you can identify tissues in patients that have gene set enrichment profiles similar to those in the experiment GSE249645.\n"
     ]
    },
    {
     "name": "stderr",
     "output_type": "stream",
     "text": [
      "/var/folders/bl/nkj7dq8s6m16hf4zmr47vkfr0000gn/T/ipykernel_71372/955612396.py:110: FutureWarning: The frame.append method is deprecated and will be removed from pandas in a future version. Use pandas.concat instead.\n",
      "  results_df = results_df.append(processed_info, ignore_index=True)\n"
     ]
    },
    {
     "name": "stdout",
     "output_type": "stream",
     "text": [
      "To identify protein domains enriched for pathogenic mutations in breast cancer patients, you can perform an analysis using various bioinformatics tools and databases. One approach is to use tools such as InterPro or Pfam to identify protein domains within the target protein sequence. Once the protein domains are identified, you can then query databases like ClinVar or COSMIC to determine if mutations within these domains are associated with pathogenic effects in breast cancer patients.\n",
      "\n",
      "Additionally, you can also utilize computational prediction tools to assess the potential impact of mutations on protein function, such as SIFT, PolyPhen, or CADD. Integrating the results from these analyses can provide insights into the protein domains enriched for pathogenic mutations in breast cancer patients.\n",
      "\n",
      "If you have specific target proteins and mutation data, I could assist you in performing this analysis in more detail.\n"
     ]
    },
    {
     "name": "stderr",
     "output_type": "stream",
     "text": [
      "/var/folders/bl/nkj7dq8s6m16hf4zmr47vkfr0000gn/T/ipykernel_71372/955612396.py:110: FutureWarning: The frame.append method is deprecated and will be removed from pandas in a future version. Use pandas.concat instead.\n",
      "  results_df = results_df.append(processed_info, ignore_index=True)\n"
     ]
    }
   ],
   "source": [
    "# GPT-4 dynamic evaluation\n",
    "\n",
    "import pandas as pd\n",
    "import json\n",
    "import openai\n",
    "import requests\n",
    "from openai import OpenAI\n",
    "import time\n",
    "from dotenv import load_dotenv\n",
    "load_dotenv()\n",
    "import os\n",
    "folder_path = 'files'\n",
    "if not os.path.exists(folder_path):\n",
    "    os.makedirs(folder_path)\n",
    "\n",
    "config = load_file('config.json')\n",
    "perturbations = load_file('perturbations.json')\n",
    "knowledgebase = load_file('knowledgebase.json')\n",
    "\n",
    "with open('config.json', 'r') as config_file:\n",
    "    config = json.load(config_file)\n",
    "\n",
    "INSTRUCTION = config['instructions']\n",
    "F_NAME = config[\"name\"]\n",
    "GPT_MODEL = config[\"GPT_MODEL\"]\n",
    "INPUT_CSV_PATH = 'files/questions_dynamic.xlsx'\n",
    "OUTPUT_CSV_PATH = f'files/{F_NAME}_results_gpt4_dynamic.xlsx'\n",
    "\n",
    "client = OpenAI()\n",
    "def show_json(obj):\n",
    "    print(json.loads(obj.model_dump_json()))\n",
    "\n",
    "assistant = client.beta.assistants.create(\n",
    "    name=f\"{F_NAME} AI Dynamic Evaluator\",\n",
    "    instructions=INSTRUCTION,\n",
    "    model=GPT_MODEL,\n",
    ")\n",
    "show_json(assistant)\n",
    "\n",
    "# Utility functions\n",
    "def read_csv(file_path):\n",
    "    return pd.read_excel(file_path)\n",
    "\n",
    "def process_data_for_gpt(data):\n",
    "    prompts = []\n",
    "    for _, row in data.iterrows():\n",
    "        question = row['Question']\n",
    "        prompt = f\"Please try your best to answer the following question.:\\n\\n{question}\"\n",
    "        prompts.append(prompt)\n",
    "    return prompts\n",
    "\n",
    "def submit_message_and_create_run(assistant_id, prompt):\n",
    "    thread = client.beta.threads.create() # If you replace this globally it appends all answers to the one before.\n",
    "    client.beta.threads.messages.create(thread_id=thread.id, role=\"user\", content=prompt)\n",
    "    return client.beta.threads.runs.create(thread_id=thread.id, assistant_id=assistant_id), thread\n",
    "\n",
    "def wait_on_run_and_get_response(run, thread):\n",
    "    while run.status == \"queued\" or run.status == \"in_progress\":\n",
    "        run = client.beta.threads.runs.retrieve(thread_id=thread.id, run_id=run.id)\n",
    "        time.sleep(0.5)\n",
    "    messages = client.beta.threads.messages.list(thread_id=thread.id, order=\"asc\")\n",
    "    return [m.content[0].text.value for m in messages if m.role == 'assistant']\n",
    "\n",
    "def ask_gpt4(prompt, ASSISTANT_ID):\n",
    "    run, thread = submit_message_and_create_run(ASSISTANT_ID, prompt)\n",
    "    response = wait_on_run_and_get_response(run, thread)\n",
    "    if isinstance(response, list):\n",
    "        response = ' '.join(map(str, response))\n",
    "    response = response.replace(\"\\\\\\\\n\", \"\\\\n\")\n",
    "    response = response.strip()\n",
    "    print(response)\n",
    "    return response\n",
    "\n",
    "def process_question_with_gpt4(row, assistant_id):\n",
    "    original_question = row['Question']\n",
    "    category = row.get('Category', 'Static')  # Default to 'Static' if not present\n",
    "    if category == \"Dynamic\":\n",
    "        # Dynamic question processing logic\n",
    "        first_response = ask_gpt4(original_question, assistant_id)\n",
    "        category, (perturbation, description) = get_random_perturbation(perturbations)\n",
    "        perturbed_qn = f\"{original_question}\\nResponse: {first_response}\\nChange in circumstances: {perturbation} - {description}\\n What should change in the response?\"\n",
    "        perturbed_response = ask_gpt4(perturbed_qn, assistant_id)\n",
    "        final_analysis_qn = f\"Original Question: {original_question}\\nOrig Response: {first_response} \\nPerturbation ({category}): {perturbation} - {description}\\n {perturbed_response}\\nKnowledgebase Content: {knowledgebase}\\n Now consider the knowlegebase, what else ought we to do?\"\n",
    "        final_analysis_response = ask_gpt4(final_analysis_qn, assistant_id)\n",
    "    else:\n",
    "        # Static question processing logic\n",
    "        first_response = ask_gpt4(original_question, assistant_id)\n",
    "        perturbed_qn = perturbed_response = final_analysis_qn = final_analysis_response = \"n/a\"\n",
    "\n",
    "    return {\n",
    "        'Model': GPT_MODEL,\n",
    "        'Question': original_question, \n",
    "        'Response': first_response, \n",
    "        'Perturbed Question': perturbed_qn, \n",
    "        'Perturbed Response': perturbed_response, \n",
    "        'Final Analysis Question': final_analysis_qn, \n",
    "        'Final Analysis Response': final_analysis_response\n",
    "    }\n",
    "\n",
    "# Modify DataFrame to include new columns\n",
    "new_data_columns = ['Model', 'Question', 'Response', 'Perturbed Question', 'Perturbed Response', 'Final Analysis Question', 'Final Analysis Response']\n",
    "results_df = pd.DataFrame(columns=new_data_columns)\n",
    "data = read_csv(INPUT_CSV_PATH)\n",
    "prompts = process_data_for_gpt(data)\n",
    "ASSISTANT_ID = assistant.id\n",
    "\n",
    "# Process each question\n",
    "for index, row in data.iterrows():\n",
    "    processed_info = process_question_with_gpt4(row, ASSISTANT_ID)\n",
    "    results_df = results_df.append(processed_info, ignore_index=True)\n",
    "\n",
    "# Save the results\n",
    "results_df.to_excel(OUTPUT_CSV_PATH, index=False)\n"
   ]
  },
  {
   "cell_type": "code",
   "execution_count": 7,
   "metadata": {},
   "outputs": [
    {
     "name": "stderr",
     "output_type": "stream",
     "text": [
      "/var/folders/bl/nkj7dq8s6m16hf4zmr47vkfr0000gn/T/ipykernel_71372/261612278.py:40: UserWarning: This pattern is interpreted as a regular expression, and has match groups. To actually get the groups, use str.extract.\n",
      "  contains_mask = big_df[big_col].str.contains(row[small_col])\n"
     ]
    }
   ],
   "source": [
    "import re\n",
    "import pandas as pd\n",
    "from difflib import SequenceMatcher\n",
    "import json\n",
    "with open('config.json', 'r') as config_file:\n",
    "    config = json.load(config_file)\n",
    "\n",
    "INSTRUCTION = config['instructions']\n",
    "F_NAME = config[\"name\"]\n",
    "\n",
    "def clean_text(text):\n",
    "    \"\"\"\n",
    "    Remove non-ASCII characters from the text.\n",
    "    \"\"\"\n",
    "    return ''.join(char for char in text if char.isascii())\n",
    "\n",
    "def create_combined_csv(original_csv_path, interim_csv_path, combined_csv_path):\n",
    "    # Read the original and interim data\n",
    "    original_data = pd.read_excel(original_csv_path) #, encoding='utf-8-sig'\n",
    "    interim_data = pd.read_excel(interim_csv_path)\n",
    "\n",
    "    # Combine the data\n",
    "    combined_data = pd.concat([original_data, interim_data], ignore_index=True)\n",
    "\n",
    "    # Save the combined data to a new CSV file\n",
    "    combined_data.to_excel(combined_csv_path, index=False)\n",
    "\n",
    "def merge_on_contains(big_df, small_df, big_col, small_col):\n",
    "    # Lowercase and strip whitespace for more effective matching\n",
    "    big_df[big_col] = big_df[big_col].str.lower().str.strip()\n",
    "    small_df[small_col] = small_df[small_col].str.lower().str.strip()\n",
    "\n",
    "    # Check if 'category' column exists in small_df\n",
    "    if 'category' in small_df.columns:\n",
    "        # Create a new column for the merged category in big_df\n",
    "        big_df['category'] = ''\n",
    "\n",
    "        # Iterate over the small dataframe and update the category in the big dataframe\n",
    "        for _, row in small_df.iterrows():\n",
    "            contains_mask = big_df[big_col].str.contains(row[small_col])\n",
    "            big_df.loc[contains_mask, 'category'] = row['category']\n",
    "    else:\n",
    "        # Handle the case when 'category' column does not exist\n",
    "        # For example, you can set a default category or leave it as it is\n",
    "        big_df['category'] = 'default_category'  # or any other handling logic\n",
    "\n",
    "    return big_df\n",
    "\n",
    "# Load the files\n",
    "questions_file_path = 'files/questions_dynamic.xlsx' \n",
    "llmresults_file_path = f'files/{F_NAME}_results_grouped_by_model_dynamic.xlsx'\n",
    "gpt4results_csv_path = f'files/{F_NAME}_results_gpt4_dynamic.xlsx'\n",
    "results_file_path = f'files/{F_NAME}_allresults_grouped_by_model_dynamic.xlsx'\n",
    "\n",
    "create_combined_csv(llmresults_file_path, gpt4results_csv_path, results_file_path)\n",
    "\n",
    "# Reading the files\n",
    "questions_df = pd.read_excel(questions_file_path)\n",
    "results_df = pd.read_excel(results_file_path)\n",
    "\n",
    "# Ensure the total number of questions in results_grouped_by_model.xlsx is a multiple of the number in questions.xlsx\n",
    "if len(results_df) % len(questions_df) != 0:\n",
    "    print(len(results_df))\n",
    "    print(len(questions_df))\n",
    "    raise ValueError(\"The total number of questions in results_grouped_by_model.xlsx must be a multiple of the number in questions.xlsx.\")\n",
    "\n",
    "# Replace questions in results_grouped_df with those from questions_df\n",
    "num_repetitions = len(results_df) // len(questions_df)\n",
    "repeated_questions = pd.concat([questions_df['Question']] * num_repetitions, ignore_index=True)\n",
    "results_df['Question'] = repeated_questions\n",
    "\n",
    "# Save the modified DataFrame to a new Excel file\n",
    "results_df.to_excel(results_file_path, index=False)  # Replace with your desired path\n",
    "\n",
    "# Applying the merge_on_contains function\n",
    "merged_df = merge_on_contains(results_df, questions_df, 'Question', 'Question')\n",
    "\n",
    "# CLEAN DATA\n",
    "# # Define a regular expression pattern to match unwanted characters and sequences\n",
    "# pattern = r'(\\\\n|\\\\|\")'\n",
    "# # Use the pattern to replace matched characters with a single space\n",
    "# merged_df['Question'] = merged_df['Question'].str.replace(pattern, ' ', regex=True)\n",
    "# # Apply the clean_text function to remove non-ASCII characters\n",
    "# merged_df['Question'] = merged_df['Question'].apply(clean_text)\n",
    "# # Replace multiple white spaces with a single space\n",
    "# merged_df['Question'] = merged_df['Question'].str.replace(r'\\s+', ' ', regex=True)\n",
    "# # Remove leading and trailing whitespaces\n",
    "# merged_df['Question'] = merged_df['Question'].str.strip()\n",
    "# Pivoting the data\n",
    "pivoted_data = merged_df.pivot(index=['Question', 'category'], columns='Model', values='Response')\n",
    "\n",
    "# Resetting index to make 'Question' and 'category' columns again\n",
    "pivoted_data.reset_index(inplace=True)\n",
    "\n",
    "pivoted_data.to_excel(f'files/{F_NAME}_results_grouped_by_question_dynamic.xlsx', index=False)\n"
   ]
  }
 ],
 "metadata": {
  "kernelspec": {
   "display_name": "Python 3",
   "language": "python",
   "name": "python3"
  },
  "language_info": {
   "codemirror_mode": {
    "name": "ipython",
    "version": 3
   },
   "file_extension": ".py",
   "mimetype": "text/x-python",
   "name": "python",
   "nbconvert_exporter": "python",
   "pygments_lexer": "ipython3",
   "version": "3.11.6"
  }
 },
 "nbformat": 4,
 "nbformat_minor": 2
}
