{
 "cells": [
  {
   "cell_type": "code",
   "execution_count": 12,
   "metadata": {},
   "outputs": [
    {
     "name": "stdout",
     "output_type": "stream",
     "text": [
      "ccle_cn_gistic\n",
      "\n",
      "Table: ccle_cn_gistic in files/db/CCLEGisticCNDB.db\n",
      "MetaData()\n"
     ]
    },
    {
     "data": {
      "text/markdown": [
       "<b>There are 0 different proteins associated with lymphoid tissue in the query results.</b>"
      ],
      "text/plain": [
       "<IPython.core.display.Markdown object>"
      ]
     },
     "metadata": {},
     "output_type": "display_data"
    },
    {
     "name": "stdout",
     "output_type": "stream",
     "text": [
      "ccle_mutation\n",
      "\n",
      "Table: ccle_mutation in files/db/CCLEMutDB.db\n",
      "MetaData()\n"
     ]
    },
    {
     "data": {
      "text/markdown": [
       "<b>There are no different proteins associated with lymphoid tissue.</b>"
      ],
      "text/plain": [
       "<IPython.core.display.Markdown object>"
      ]
     },
     "metadata": {},
     "output_type": "display_data"
    },
    {
     "name": "stdout",
     "output_type": "stream",
     "text": [
      "ccle_variants\n",
      "\n",
      "Table: ccle_variants in files/db/CCLEVarDB.db\n",
      "MetaData()\n"
     ]
    },
    {
     "data": {
      "text/markdown": [
       "<b>There are no different proteins associated with lymphoid tissue in the query results.</b>"
      ],
      "text/plain": [
       "<IPython.core.display.Markdown object>"
      ]
     },
     "metadata": {},
     "output_type": "display_data"
    }
   ],
   "source": [
    "from IPython.display import Markdown, display\n",
    "from llama_index import SQLDatabase, ServiceContext\n",
    "import sqlite3\n",
    "from llama_index.llms import OpenAI\n",
    "from llama_index.indices.struct_store.sql_query import (\n",
    "    SQLTableRetrieverQueryEngine,\n",
    ")\n",
    "from llama_index.objects import (\n",
    "    SQLTableNodeMapping,\n",
    "    ObjectIndex,\n",
    "    SQLTableSchema,\n",
    ")\n",
    "from llama_index import VectorStoreIndex\n",
    "from sqlalchemy import (\n",
    "    create_engine,\n",
    "    MetaData,\n",
    "    Table,\n",
    "    Column,\n",
    "    String,\n",
    "    Integer,\n",
    "    select,\n",
    ")\n",
    "\n",
    "# Paths to your database files\n",
    "db_files = [\"files/db/CCLEGisticCNDB.db\" , 'files/db/CCLEMutDB.db', 'files/db/CCLEVarDB.db']\n",
    "\n",
    "# Iterate over the files and inspect tables\n",
    "# for db_file in db_files:\n",
    "# inspect_database(db_file)\n",
    "\n",
    "for db_file in db_files:\n",
    "    engine = create_engine('sqlite:///' + db_file)\n",
    "    conn = sqlite3.connect(db_file)\n",
    "    cursor = conn.cursor()\n",
    "\n",
    "    # Get all tables\n",
    "    cursor.execute(\"SELECT name FROM sqlite_master WHERE type='table';\")\n",
    "\n",
    "    tables = cursor.fetchall()\n",
    "    for table in tables:\n",
    "        print(table[0])\n",
    "\n",
    "    table_name = table[0]\n",
    "    print(f\"\\nTable: {table_name} in {db_file}\")\n",
    "    metadata_obj = MetaData()\n",
    "    print(metadata_obj)\n",
    "    # Get table schema\n",
    "    print(\"Schema:\")\n",
    "    cursor.execute(f\"PRAGMA table_info({table_name});\")\n",
    "    schema = cursor.fetchall()\n",
    "    for column in schema:\n",
    "        print(column)\n",
    "\n",
    "    # Get the first five rows\n",
    "    # print(\"\\nFirst 5 rows:\")\n",
    "    cursor.execute(f\"SELECT * FROM {table_name} LIMIT 5;\")\n",
    "    rows = cursor.fetchall()\n",
    "    for row in rows:\n",
    "        print(row)\n",
    "\n",
    "    llm = OpenAI(temperature=0.1, model=\"gpt-3.5-turbo\")\n",
    "    service_context = ServiceContext.from_defaults(llm=llm)\n",
    "    sql_database = SQLDatabase(engine)\n",
    "    # set Logging to DEBUG for more detailed outputs\n",
    "    table_node_mapping = SQLTableNodeMapping(sql_database)\n",
    "    table_schema_objs = [\n",
    "        (SQLTableSchema(table_name=str(table_name)))\n",
    "    ]  # add a SQLTableSchema for each table\n",
    "\n",
    "    obj_index = ObjectIndex.from_objects(\n",
    "        table_schema_objs,\n",
    "        table_node_mapping,\n",
    "        VectorStoreIndex,\n",
    "    )\n",
    "    query_engine = SQLTableRetrieverQueryEngine(\n",
    "        sql_database, obj_index.as_retriever(similarity_top_k=3)\n",
    "    )\n",
    "    response = query_engine.query(\"How many different proteins with lymphoid tissue?\")\n",
    "    display(Markdown(f\"<b>{response}</b>\"))\n",
    "    # Close the cursor and connection\n",
    "    cursor.close()\n",
    "    conn.close()\n"
   ]
  },
  {
   "cell_type": "code",
   "execution_count": null,
   "metadata": {},
   "outputs": [],
   "source": [
    "# A check\n",
    "import re \n",
    "def extract_sql(self, llm_response: str) -> str:\n",
    "    # If the llm_response contains a markdown code block, with or without the sql tag, extract the sql from it\n",
    "    sql = re.search(r\"```sql\\n(.*)```\", llm_response, re.DOTALL)\n",
    "    if sql:\n",
    "        self.log(f\"Output from LLM: {llm_response} \\nExtracted SQL: {sql.group(1)}\")\n",
    "        return sql.group(1)\n",
    "\n",
    "    sql = re.search(r\"```(.*)```\", llm_response, re.DOTALL)\n",
    "    if sql:\n",
    "        self.log(f\"Output from LLM: {llm_response} \\nExtracted SQL: {sql.group(1)}\")\n",
    "        return sql.group(1)\n",
    "\n",
    "    return llm_response\n",
    "\n",
    "def is_sql_valid(self, sql: str) -> bool:\n",
    "    # This is a check to see the SQL is valid and should be run\n",
    "    # This simple function just checks if the SQL contains a SELECT statement\n",
    "\n",
    "    if \"SELECT\" in sql.upper():\n",
    "        return True\n",
    "    else:\n",
    "        return False\n"
   ]
  }
 ],
 "metadata": {
  "kernelspec": {
   "display_name": "Python 3",
   "language": "python",
   "name": "python3"
  },
  "language_info": {
   "codemirror_mode": {
    "name": "ipython",
    "version": 3
   },
   "file_extension": ".py",
   "mimetype": "text/x-python",
   "name": "python",
   "nbconvert_exporter": "python",
   "pygments_lexer": "ipython3",
   "version": "3.11.6"
  }
 },
 "nbformat": 4,
 "nbformat_minor": 2
}
