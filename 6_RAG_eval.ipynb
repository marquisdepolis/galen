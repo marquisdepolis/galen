{
 "cells": [
  {
   "cell_type": "code",
   "execution_count": 10,
   "metadata": {},
   "outputs": [
    {
     "name": "stdout",
     "output_type": "stream",
     "text": [
      "Synthetic lethality can result from the interaction between pseudokinases and oncogenes. Pseudokinases are a type of protein that resemble kinases but lack the ability to catalyze phosphorylation reactions. In the context of cancer, pseudokinases can interact with oncogenes to create a synthetic lethal relationship. This means that the presence of mutations in both the pseudokinase and the oncogene is lethal to the cancer cells, while mutations in either one alone are compatible with cell viability. This interaction can be exploited for therapeutic purposes, as targeting the pseudokinase or the oncogene alone may not be effective, but targeting both can selectively kill cancer cells.\n"
     ]
    }
   ],
   "source": [
    "# RAG with our files, simple example from Llama Index\n",
    "from llama_index import VectorStoreIndex, SimpleDirectoryReader\n",
    "\n",
    "documents = SimpleDirectoryReader(\"files/Papers_FullText/\").load_data()\n",
    "database = SimpleDirectoryReader(\"files/db/\").load_data()\n",
    "index = VectorStoreIndex.from_documents(documents)\n",
    "query_engine = index.as_query_engine()\n",
    "response = query_engine.query(\"How does synethetic lethality result from pseudokinases and impact on oncogenes?\")\n",
    "print(response)"
   ]
  },
  {
   "cell_type": "code",
   "execution_count": 3,
   "metadata": {},
   "outputs": [
    {
     "name": "stderr",
     "output_type": "stream",
     "text": [
      "[nltk_data] Downloading package punkt to /Users/rohit/nltk_data...\n",
      "[nltk_data]   Package punkt is already up-to-date!\n"
     ]
    }
   ],
   "source": [
    "# Create an index via OpenAI embeddings\n",
    "import os\n",
    "import re\n",
    "import numpy as np\n",
    "from PyPDF2 import PdfReader\n",
    "import faiss\n",
    "import nltk\n",
    "from openai import OpenAI\n",
    "\n",
    "# Download NLTK punkt tokenizer models\n",
    "nltk.download('punkt')\n",
    "client = OpenAI()\n",
    "\n",
    "def clean_text(text):\n",
    "    return re.sub(r'[^A-Za-z0-9\\s]', '', text).strip()\n",
    "\n",
    "def get_sentences(text):\n",
    "    return nltk.tokenize.sent_tokenize(text)\n",
    "\n",
    "def get_embedding(sentence):\n",
    "    response = client.embeddings.create(\n",
    "        input=sentence,\n",
    "        model=\"text-embedding-3-small\"\n",
    "    )\n",
    "    return np.array(response.data[0].embedding, dtype='float32')\n",
    "\n",
    "def read_pdf(file_path):\n",
    "    text = \"\"\n",
    "    with open(file_path, 'rb') as file:\n",
    "        reader = PdfReader(file)\n",
    "        for page in reader.pages:\n",
    "            text += page.extract_text()\n",
    "    return text\n",
    "\n",
    "def read_text_file(file_path):\n",
    "    with open(file_path, 'r', encoding='utf-8') as file:\n",
    "        return file.read()\n",
    "\n",
    "def chunk_text(text, chunk_size=256):\n",
    "    \"\"\"\n",
    "    Splits the text into smaller chunks, each with a maximum size of chunk_size tokens.\n",
    "    \"\"\"\n",
    "    tokens = text.split()\n",
    "    for i in range(0, len(tokens), chunk_size):\n",
    "        yield ' '.join(tokens[i:i + chunk_size])\n",
    "\n",
    "def process_text(text, faiss_index, id_map):\n",
    "    for chunk in chunk_text(clean_text(text)):\n",
    "        sentences = get_sentences(chunk)\n",
    "        for sentence in sentences:\n",
    "            embedding = get_embedding(sentence)\n",
    "            idx = faiss_index.ntotal\n",
    "            faiss_index.add(np.array([embedding]))\n",
    "            id_map[idx] = sentence\n",
    "\n",
    "def process_folder(folder_path, faiss_index, id_map):\n",
    "    for file_name in os.listdir(folder_path):\n",
    "        file_path = os.path.join(folder_path, file_name)\n",
    "        if file_name.endswith('.pdf'):\n",
    "            text = read_pdf(file_path)\n",
    "        elif file_name.endswith('.txt'):\n",
    "            text = read_text_file(file_path)\n",
    "        else:\n",
    "            continue  # Skip other file formats\n",
    "        process_text(text, faiss_index, id_map)\n",
    "\n",
    "def save_faiss_index(faiss_index, file_name):\n",
    "    faiss.write_index(faiss_index, file_name)\n",
    "\n",
    "def load_faiss_index(file_name):\n",
    "    return faiss.read_index(file_name)\n",
    "\n",
    "def search_index(query_embedding, faiss_index, id_map, k):\n",
    "    distances, indices = faiss_index.search(np.array([query_embedding]), k)\n",
    "    return [(id_map[idx], distances[0][i]) for i, idx in enumerate(indices[0])]\n",
    "\n",
    "# Initialize FAISS index and ID map\n",
    "dimension = 1536  # Adjust based on your model's output\n",
    "faiss_index = faiss.IndexFlatL2(dimension)\n",
    "id_map = {}\n",
    "\n",
    "# Process files and index embeddings\n",
    "folder_path = 'files/Papers_FullText'\n",
    "process_folder(folder_path, faiss_index, id_map)\n",
    "\n",
    "# Save the index for later use\n",
    "save_faiss_index(faiss_index, 'faiss_index.idx')"
   ]
  },
  {
   "cell_type": "code",
   "execution_count": 4,
   "metadata": {},
   "outputs": [
    {
     "name": "stdout",
     "output_type": "stream",
     "text": [
      "[('and siRNA sensitivity requires careful interpretation 43 as many inhibitors36Genetic and cellular mechanisms of oncogenesis Current Opinion in Genetics Development 2011 213441 wwwsciencedirectcomSearching for synthetic lethality in cancer Brough et al 37 Figure 2 Synthetic lethality by functional compensation aThe EGFR pathway is often active in cancer One of the downstream consequences of EGFR stimulation is the activation of AKT which drives cellular proliferation bEGFR inhibitor gefitinib sensitive cancers are unable to activate AKT and as a result die when treated with the inhibitor cIn basallike breast cancer the notch pathway is hyperactivated Notch activation compensates or buffers for EGFR inhibition by maintaining the levels of activated AKT dDual inhibition of EGFR and Notch by inhibiting the essential Notch component gsecretase results in synthetic lethality since the levels of activated AKT are depleted eA potential route for predicting further synthetic lethal interactions by functional compensation is illustrated Firstly identifying genes that are upregulated in mutant cell lines when compare dt ot h e wildtype counterpart with the premise that this difference in expression may be compensating for the effect of the mutant allele Targeting the up regulated protein product or another in the same pathway may be a potential route for therapy wwwsciencedirectcom Current Opinion in Genetics Development 2011 213441target catalytic activities whereas RNAi approaches suppress target protein exp ression and thus inhibit both catalytic and noncatalytic such as scaffolding functionsWe recently combined genetic and chemical approaches in a highthroughput screen of a library of clinically used drugs to identify synthetic lethality effects with loss of', 0.6873157), ('proteins might also alter the requirement of a cell for proteasomal function30 The proteasomal inhibitor bortezomib is well tolerated in humans and was recently approved for the treatment of multiple myeloma31 Discovery of human synthetic lethal interactions Our knowledge of the molecular networks that are established in normal cells and cancer cells is too rudimentary to allow reliable predictions of the genes that will be synthetic lethal to a given cancer gene Nonetheless a few ideas have been put forward for how synthetic lethal combinations might be achieved based on first principles Many oncoproteins includ ing E2F1 and MYC represent a doubleedged sword for cancer cells because they deliver both promitogenic and proapoptotic signals A counter intuitive approach to treating cancer cells that have hyperactive oncoproteins such as these would be treat ing them with drugs that enhance their action further in the hope of crossing an apoptotic threshold For example E2F1 is negatively regulated by both pRB and cyclin A3235 Loss of the pRB pathway establishes a positivefeedback loop in which E2F1 activates its own promoter36 and blocking the remaining interaction of cyclin A with E2F1 kills transformed cells but not their normal counterparts3739 Unfortunately inhibiting the activity of the cyclinA partner CDK2 cyclindepend ent kinase 2 does not have the same effect40 possibly because another catalytic partner can substitute for CDK2 in its absence4142 Synthetic lethal interactions might also be predicted based on the loss of particular cellcycle checkpoints16 For example Sphase cells in contrast to G1 cells can be induced to undergo prema', 0.69064856), ('ruit y Drosophila melanogaster almost a century ago describes a phenomenon where onl y the simultaneous perturbation of two g enes results in a deadly combination Thus c ancer aberrations that are not readily target able eg tumor suppressor proteins such a s retinblastoma protein 1 RB1 and p53 TP53 oncogenes such as RAS and cMYC c ould be indirectly exploited by inhibiti ng the product of another gene 2 4 The b roader de nition of synthetic lethality has a lso been referred to as nononcogene addict ion or induced essentiality to distinguish i t from its classical meaning in genetics In t he budding yeast Saccharomyces cerevisiae m ost genes display numerous synthetic lethal i nteractions 5 6 which may also apply to m any human cancer genes Furthermore passenger mutations which do not directly c ontribute to tumorigenesis and even rewiri ng of cellular networks that give rise to a can cerous state may also be exploited with t he synthetic lethal principle However to date only a single synthetic lethal interact ion has shown therapeutic promise Why h ave synthetic lethal therapies largely failed t o deliverT he proof of principle that the synthetic l ethality concept is clinically translatable i s the ef cacy of drugs that target the sing lestrand DNA repair enzyme polyADPr ibose polymerase PARP in tumors with mu tations in the BRCA1 and BRCA2 genes 7 These genes encode tumor suppressor p roteins that help repair damaged DNA The r emarkable ability of tumors to acquire resist', 0.6913333)]\n"
     ]
    }
   ],
   "source": [
    "# Example usage: Load the index and search\n",
    "faiss_index = load_faiss_index('faiss_index.idx')\n",
    "\n",
    "query_sentence = \"How does synethetic lethality result from pseudokinases and impact on oncogenes?\"\n",
    "query_embedding = get_embedding(query_sentence)\n",
    "results = search_index(query_embedding, faiss_index, id_map,3)\n",
    "print(results)\n"
   ]
  }
 ],
 "metadata": {
  "kernelspec": {
   "display_name": "Python 3",
   "language": "python",
   "name": "python3"
  },
  "language_info": {
   "codemirror_mode": {
    "name": "ipython",
    "version": 3
   },
   "file_extension": ".py",
   "mimetype": "text/x-python",
   "name": "python",
   "nbconvert_exporter": "python",
   "pygments_lexer": "ipython3",
   "version": "3.11.6"
  }
 },
 "nbformat": 4,
 "nbformat_minor": 2
}
